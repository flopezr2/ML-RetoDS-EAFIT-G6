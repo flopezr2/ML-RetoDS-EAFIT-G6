{
 "cells": [
  {
   "cell_type": "markdown",
   "metadata": {},
   "source": [
    "# Descripción\n",
    "Primera versión del modelo de estimación de fechas de aprobacion sin mucha limpieza de datos"
   ]
  },
  {
   "cell_type": "code",
   "execution_count": 1,
   "metadata": {},
   "outputs": [],
   "source": [
    "import numpy as np\n",
    "import pandas as pd\n",
    "import missingno as msn\n",
    "import matplotlib.pyplot as plt\n",
    "import os\n",
    "import seaborn as sns\n"
   ]
  },
  {
   "cell_type": "code",
   "execution_count": 2,
   "metadata": {},
   "outputs": [],
   "source": [
    "#Direccion del documento\n",
    "#path=os.path.dirname(os.path.realpath('Ordenes%20de%20compra%20PORTAL%201K%20(datos%20completo).xlsx'))\n",
    "#path"
   ]
  },
  {
   "cell_type": "code",
   "execution_count": 3,
   "metadata": {},
   "outputs": [],
   "source": [
    "#Subir la dirección local de donde tengan los datos\n",
    "df=pd.read_excel('C:\\\\Users\\\\Admin\\\\OneDrive\\\\Documentos\\\\DataScience2021-2\\\\Trabajos_propios_felipe\\\\Proyecto_final\\\\Ordenes de compra PORTAL 1K (datos completo).xlsx')"
   ]
  },
  {
   "cell_type": "code",
   "execution_count": 4,
   "metadata": {},
   "outputs": [],
   "source": [
    "#Manejo inicial de base de datos\n",
    "df.drop(labels=['Unnamed: 26', 'Unnamed: 27', 'Unnamed: 28'],axis=1,inplace=True)\n",
    "df.drop_duplicates(inplace=True)\n",
    "\n",
    "#Cambiando formato de variables\n",
    "df['FECHA ORDEN']=pd.to_datetime(df['FECHA ORDEN'],format='%Y-%m-%d',errors = 'coerce')\n",
    "df['FECHA ENTREGA']=pd.to_datetime(df['FECHA ENTREGA'],format='%Y-%m-%d',errors = 'coerce')\n",
    "df['FECHA APROBACION']=pd.to_datetime(df['FECHA APROBACION'],format='%Y-%m-%d',errors = 'coerce')\n",
    "df['FECHA ULTIMO MOVIMIENTO']=pd.to_datetime(df['FECHA ULTIMO MOVIMIENTO'],format='%Y-%m-%d',errors = 'coerce')\n",
    "df['PRECIO UNITARIO']=df['PRECIO UNITARIO'].apply(lambda x:float(x.replace('.','')))\n",
    "df['PRECIO UNITARIO + IVA']=df['PRECIO UNITARIO + IVA'].apply(lambda x:float(x.replace('.','')))\n",
    "df['IVA']=df['IVA'].apply(lambda x:float(x.replace('.','')))\n",
    "df['TOTAL SIN IVA']=df['TOTAL SIN IVA'].apply(lambda x:float(x.replace('.','')))\n",
    "df['TOTAL + IVA']=df['TOTAL + IVA'].apply(lambda x:float(x.replace('.','')))\n",
    "\n",
    "#Eliminamos columnas que no usaremos\n",
    "df.drop(labels=['CANTIDAD RECIBIDA','CENTRO DE COSTOS','PRESUPUESTO'],inplace=True,axis=1)\n",
    "\n"
   ]
  },
  {
   "cell_type": "code",
   "execution_count": 5,
   "metadata": {},
   "outputs": [],
   "source": [
    "#Creacion de nuevos features\n",
    "\n",
    "#Con las fechas de aprobacion\n",
    "df['dia fecha aprobacion']=df['FECHA APROBACION'].dt.dayofweek #0 lunes, 6 domingo\n",
    "df['mes fecha aprobacion']=df['FECHA APROBACION'].dt.month #Meses de aprobación \n",
    "df['semana del año aprobacion']=df['FECHA APROBACION'].dt.isocalendar().week\n",
    "\n",
    "#Con las fechas de orden\n",
    "df['dia fecha orden']=df['FECHA ORDEN'].dt.dayofweek #0 lunes, 6 domingo\n",
    "df['mes fecha orden']=df['FECHA ORDEN'].dt.month #Meses de ordbación \n",
    "df['semana del año orden']=df['FECHA ORDEN'].dt.isocalendar().week\n",
    "\n",
    "#Variable objetivo\n",
    "df['dias para aprobación']=df['FECHA APROBACION']-df['FECHA ORDEN']\n",
    "df['dias para aprobación']=(df['FECHA APROBACION']-df['FECHA ORDEN']).dt.days"
   ]
  },
  {
   "cell_type": "markdown",
   "metadata": {},
   "source": [
    "### TRATANDO OUTLAYERS"
   ]
  },
  {
   "cell_type": "code",
   "execution_count": 6,
   "metadata": {},
   "outputs": [
    {
     "data": {
      "text/plain": [
       "CATEGORÍA\n",
       "Vigilancia y seguridad industrial              43.528299\n",
       "Vigilancia y seguridad                         39.241379\n",
       "Moda y accesorios                              22.695652\n",
       "Vehículos y repuestos                           6.428571\n",
       "Medicina y Salud                                5.600000\n",
       "Dotación y elementos de protección personal     3.312707\n",
       "Gestión ambiental                               2.829268\n",
       "Cuidado personal y Belleza                      2.250000\n",
       "Textiles                                        2.021429\n",
       "Compras Sostenibles                             1.619048\n",
       "Name: dias para aprobación, dtype: float64"
      ]
     },
     "execution_count": 6,
     "metadata": {},
     "output_type": "execute_result"
    }
   ],
   "source": [
    "df.groupby('CATEGORÍA')['dias para aprobación'].mean().sort_values(ascending=False).head(10)"
   ]
  },
  {
   "cell_type": "code",
   "execution_count": 170,
   "metadata": {},
   "outputs": [
    {
     "data": {
      "text/plain": [
       "count    21259.000000\n",
       "mean        13.368550\n",
       "std         28.016148\n",
       "min          0.000000\n",
       "25%          0.000000\n",
       "50%          0.000000\n",
       "75%          7.000000\n",
       "max        573.000000\n",
       "Name: dias para aprobación, dtype: float64"
      ]
     },
     "execution_count": 170,
     "metadata": {},
     "output_type": "execute_result"
    }
   ],
   "source": [
    "df['dias para aprobación'].describe()"
   ]
  },
  {
   "cell_type": "code",
   "execution_count": 171,
   "metadata": {},
   "outputs": [
    {
     "data": {
      "text/html": [
       "<div>\n",
       "<style scoped>\n",
       "    .dataframe tbody tr th:only-of-type {\n",
       "        vertical-align: middle;\n",
       "    }\n",
       "\n",
       "    .dataframe tbody tr th {\n",
       "        vertical-align: top;\n",
       "    }\n",
       "\n",
       "    .dataframe thead th {\n",
       "        text-align: right;\n",
       "    }\n",
       "</style>\n",
       "<table border=\"1\" class=\"dataframe\">\n",
       "  <thead>\n",
       "    <tr style=\"text-align: right;\">\n",
       "      <th></th>\n",
       "      <th>max</th>\n",
       "      <th>mean</th>\n",
       "      <th>median</th>\n",
       "    </tr>\n",
       "    <tr>\n",
       "      <th>CATEGORÍA</th>\n",
       "      <th></th>\n",
       "      <th></th>\n",
       "      <th></th>\n",
       "    </tr>\n",
       "  </thead>\n",
       "  <tbody>\n",
       "    <tr>\n",
       "      <th>Vigilancia y seguridad industrial</th>\n",
       "      <td>118.0</td>\n",
       "      <td>43.528299</td>\n",
       "      <td>48.0</td>\n",
       "    </tr>\n",
       "    <tr>\n",
       "      <th>Vigilancia y seguridad</th>\n",
       "      <td>573.0</td>\n",
       "      <td>39.241379</td>\n",
       "      <td>1.0</td>\n",
       "    </tr>\n",
       "    <tr>\n",
       "      <th>Moda y accesorios</th>\n",
       "      <td>532.0</td>\n",
       "      <td>22.695652</td>\n",
       "      <td>0.0</td>\n",
       "    </tr>\n",
       "    <tr>\n",
       "      <th>Vehículos y repuestos</th>\n",
       "      <td>549.0</td>\n",
       "      <td>6.428571</td>\n",
       "      <td>0.0</td>\n",
       "    </tr>\n",
       "    <tr>\n",
       "      <th>Medicina y Salud</th>\n",
       "      <td>55.0</td>\n",
       "      <td>5.600000</td>\n",
       "      <td>0.0</td>\n",
       "    </tr>\n",
       "    <tr>\n",
       "      <th>Dotación y elementos de protección personal</th>\n",
       "      <td>30.0</td>\n",
       "      <td>3.312707</td>\n",
       "      <td>1.0</td>\n",
       "    </tr>\n",
       "    <tr>\n",
       "      <th>Gestión ambiental</th>\n",
       "      <td>55.0</td>\n",
       "      <td>2.829268</td>\n",
       "      <td>0.0</td>\n",
       "    </tr>\n",
       "    <tr>\n",
       "      <th>Cuidado personal y Belleza</th>\n",
       "      <td>6.0</td>\n",
       "      <td>2.250000</td>\n",
       "      <td>1.0</td>\n",
       "    </tr>\n",
       "    <tr>\n",
       "      <th>Textiles</th>\n",
       "      <td>10.0</td>\n",
       "      <td>2.021429</td>\n",
       "      <td>2.0</td>\n",
       "    </tr>\n",
       "    <tr>\n",
       "      <th>Compras Sostenibles</th>\n",
       "      <td>5.0</td>\n",
       "      <td>1.619048</td>\n",
       "      <td>1.5</td>\n",
       "    </tr>\n",
       "  </tbody>\n",
       "</table>\n",
       "</div>"
      ],
      "text/plain": [
       "                                               max       mean  median\n",
       "CATEGORÍA                                                            \n",
       "Vigilancia y seguridad industrial            118.0  43.528299    48.0\n",
       "Vigilancia y seguridad                       573.0  39.241379     1.0\n",
       "Moda y accesorios                            532.0  22.695652     0.0\n",
       "Vehículos y repuestos                        549.0   6.428571     0.0\n",
       "Medicina y Salud                              55.0   5.600000     0.0\n",
       "Dotación y elementos de protección personal   30.0   3.312707     1.0\n",
       "Gestión ambiental                             55.0   2.829268     0.0\n",
       "Cuidado personal y Belleza                     6.0   2.250000     1.0\n",
       "Textiles                                      10.0   2.021429     2.0\n",
       "Compras Sostenibles                            5.0   1.619048     1.5"
      ]
     },
     "execution_count": 171,
     "metadata": {},
     "output_type": "execute_result"
    }
   ],
   "source": [
    "df.groupby('CATEGORÍA')['dias para aprobación'].agg(['max','mean','median']).sort_values(by='mean',ascending=False).head(10)"
   ]
  },
  {
   "cell_type": "markdown",
   "metadata": {},
   "source": [
    "**diagrama que muestra los outlayers del numero de dias para \\\n",
    "que una orden sea aprobada**"
   ]
  },
  {
   "cell_type": "code",
   "execution_count": 172,
   "metadata": {},
   "outputs": [
    {
     "data": {
      "image/png": "[encoded data removed]",
      "text/plain": [
       "<Figure size 576x396 with 1 Axes>"
      ]
     },
     "metadata": {},
     "output_type": "display_data"
    }
   ],
   "source": [
    "sns.boxplot(x=df['dias para aprobación']);"
   ]
  },
  {
   "cell_type": "code",
   "execution_count": 173,
   "metadata": {},
   "outputs": [
    {
     "data": {
      "text/plain": [
       "5274"
      ]
     },
     "execution_count": 173,
     "metadata": {},
     "output_type": "execute_result"
    }
   ],
   "source": [
    "\"\"\"Cantidad de datos donde los dias de aprobación estan por arriba del tercer quantil\"\"\"\n",
    "(df['dias para aprobación']>df['dias para aprobación'].quantile(0.75)).sum()\n"
   ]
  },
  {
   "cell_type": "code",
   "execution_count": 174,
   "metadata": {},
   "outputs": [
    {
     "data": {
      "text/plain": [
       "USUARIO                  USUARIO APROBADOR     CATEGORÍA                                  \n",
       "Usuario solicitante 122  Usuario Aprobador 60  Vigilancia y seguridad industrial              5000\n",
       "Usuario solicitante 50   Usuario Aprobador 25  Dotación y elementos de protección personal     130\n",
       "Usuario solicitante 67   Usuario Aprobador 28  Alimentos y Bebidas                              16\n",
       "Usuario solicitante 21   Usuario Aprobador 38  Aseo, Cafetería y Oficina                        13\n",
       "Usuario solicitante 116  Usuario Aprobador 58  Moda y accesorios                                10\n",
       "Usuario solicitante 50   Usuario Aprobador 19  Dotación y elementos de protección personal       8\n",
       "Usuario solicitante 116  Usuario Aprobador 58  Alimentos y Bebidas                               7\n",
       "                                               Vehículos y repuestos                             7\n",
       "dtype: int64"
      ]
     },
     "execution_count": 174,
     "metadata": {},
     "output_type": "execute_result"
    }
   ],
   "source": [
    "df.loc[(df['dias para aprobación']>df['dias para aprobación'].quantile(0.75)),['USUARIO','USUARIO APROBADOR',\n",
    "                                                                              'CATEGORÍA']].value_counts().head(8)"
   ]
  },
  {
   "cell_type": "code",
   "execution_count": 175,
   "metadata": {},
   "outputs": [
    {
     "data": {
      "text/plain": [
       "CATEGORÍA                          ESTADO  \n",
       "Vigilancia y seguridad industrial  Recibido    5439\n",
       "dtype: int64"
      ]
     },
     "execution_count": 175,
     "metadata": {},
     "output_type": "execute_result"
    }
   ],
   "source": [
    "df.loc[(df['USUARIO APROBADOR']=='Usuario Aprobador 60') & (df['USUARIO']=='Usuario solicitante 122'),['CATEGORÍA','ESTADO']].value_counts()"
   ]
  },
  {
   "cell_type": "code",
   "execution_count": 178,
   "metadata": {},
   "outputs": [
    {
     "data": {
      "text/plain": [
       "118.0"
      ]
     },
     "execution_count": 178,
     "metadata": {},
     "output_type": "execute_result"
    }
   ],
   "source": [
    "df.loc[(df['USUARIO APROBADOR']=='Usuario Aprobador 60') & (df['USUARIO']=='Usuario solicitante 122'),'dias para aprobación'].max()\n"
   ]
  },
  {
   "cell_type": "code",
   "execution_count": 189,
   "metadata": {},
   "outputs": [
    {
     "data": {
      "text/plain": [
       "0        False\n",
       "1        False\n",
       "2        False\n",
       "3        False\n",
       "4        False\n",
       "         ...  \n",
       "23078    False\n",
       "23079    False\n",
       "23080    False\n",
       "23081    False\n",
       "23082    False\n",
       "Length: 22392, dtype: bool"
      ]
     },
     "execution_count": 189,
     "metadata": {},
     "output_type": "execute_result"
    }
   ],
   "source": [
    "((df['USUARIO APROBADOR']=='Usuario Aprobador 60') & \n",
    "            (df['CATEGORÍA']=='Vigilancia y seguridad industrial') & (df['dias para aprobación']<\n",
    "                                                                     df['dias para aprobación'].quantile(0.75)))\n"
   ]
  },
  {
   "cell_type": "code",
   "execution_count": 161,
   "metadata": {},
   "outputs": [],
   "source": [
    "df['dias para aprobación']=np.where((df['USUARIO APROBADOR']=='Usuario Aprobador 60') & (df['CATEGORÍA']=='Vigilancia y seguridad industrial'),\n",
    "                                    mean.values[0],df['dias para aprobación'])"
   ]
  },
  {
   "cell_type": "code",
   "execution_count": 162,
   "metadata": {},
   "outputs": [
    {
     "data": {
      "text/plain": [
       "count    21259.000000\n",
       "mean         1.572322\n",
       "std         14.242060\n",
       "min          0.000000\n",
       "25%          0.000000\n",
       "50%          0.000000\n",
       "75%          2.000000\n",
       "max        573.000000\n",
       "Name: dias para aprobación, dtype: float64"
      ]
     },
     "execution_count": 162,
     "metadata": {},
     "output_type": "execute_result"
    }
   ],
   "source": [
    "df['dias para aprobación'].describe()"
   ]
  },
  {
   "cell_type": "code",
   "execution_count": 163,
   "metadata": {},
   "outputs": [
    {
     "data": {
      "text/plain": [
       "1684"
      ]
     },
     "execution_count": 163,
     "metadata": {},
     "output_type": "execute_result"
    }
   ],
   "source": [
    "\"\"\"Cantidad de datos donde los dias de aprobación estan por arriba del tercer quantil\"\"\"\n",
    "(df['dias para aprobación']>df['dias para aprobación'].quantile(0.75)).sum()\n"
   ]
  },
  {
   "cell_type": "code",
   "execution_count": 164,
   "metadata": {},
   "outputs": [
    {
     "data": {
      "text/html": [
       "<div>\n",
       "<style scoped>\n",
       "    .dataframe tbody tr th:only-of-type {\n",
       "        vertical-align: middle;\n",
       "    }\n",
       "\n",
       "    .dataframe tbody tr th {\n",
       "        vertical-align: top;\n",
       "    }\n",
       "\n",
       "    .dataframe thead th {\n",
       "        text-align: right;\n",
       "    }\n",
       "</style>\n",
       "<table border=\"1\" class=\"dataframe\">\n",
       "  <thead>\n",
       "    <tr style=\"text-align: right;\">\n",
       "      <th></th>\n",
       "      <th>max</th>\n",
       "      <th>mean</th>\n",
       "      <th>median</th>\n",
       "    </tr>\n",
       "    <tr>\n",
       "      <th>CATEGORÍA</th>\n",
       "      <th></th>\n",
       "      <th></th>\n",
       "      <th></th>\n",
       "    </tr>\n",
       "  </thead>\n",
       "  <tbody>\n",
       "    <tr>\n",
       "      <th>Vigilancia y seguridad</th>\n",
       "      <td>573.0</td>\n",
       "      <td>39.241379</td>\n",
       "      <td>1.0</td>\n",
       "    </tr>\n",
       "    <tr>\n",
       "      <th>Moda y accesorios</th>\n",
       "      <td>532.0</td>\n",
       "      <td>22.695652</td>\n",
       "      <td>0.0</td>\n",
       "    </tr>\n",
       "    <tr>\n",
       "      <th>Vehículos y repuestos</th>\n",
       "      <td>549.0</td>\n",
       "      <td>6.428571</td>\n",
       "      <td>0.0</td>\n",
       "    </tr>\n",
       "    <tr>\n",
       "      <th>Medicina y Salud</th>\n",
       "      <td>55.0</td>\n",
       "      <td>5.600000</td>\n",
       "      <td>0.0</td>\n",
       "    </tr>\n",
       "    <tr>\n",
       "      <th>Dotación y elementos de protección personal</th>\n",
       "      <td>30.0</td>\n",
       "      <td>3.312707</td>\n",
       "      <td>1.0</td>\n",
       "    </tr>\n",
       "    <tr>\n",
       "      <th>Gestión ambiental</th>\n",
       "      <td>55.0</td>\n",
       "      <td>2.829268</td>\n",
       "      <td>0.0</td>\n",
       "    </tr>\n",
       "    <tr>\n",
       "      <th>Cuidado personal y Belleza</th>\n",
       "      <td>6.0</td>\n",
       "      <td>2.250000</td>\n",
       "      <td>1.0</td>\n",
       "    </tr>\n",
       "    <tr>\n",
       "      <th>Textiles</th>\n",
       "      <td>10.0</td>\n",
       "      <td>2.021429</td>\n",
       "      <td>2.0</td>\n",
       "    </tr>\n",
       "    <tr>\n",
       "      <th>Vigilancia y seguridad industrial</th>\n",
       "      <td>5.0</td>\n",
       "      <td>1.905726</td>\n",
       "      <td>2.0</td>\n",
       "    </tr>\n",
       "    <tr>\n",
       "      <th>Compras Sostenibles</th>\n",
       "      <td>5.0</td>\n",
       "      <td>1.619048</td>\n",
       "      <td>1.5</td>\n",
       "    </tr>\n",
       "  </tbody>\n",
       "</table>\n",
       "</div>"
      ],
      "text/plain": [
       "                                               max       mean  median\n",
       "CATEGORÍA                                                            \n",
       "Vigilancia y seguridad                       573.0  39.241379     1.0\n",
       "Moda y accesorios                            532.0  22.695652     0.0\n",
       "Vehículos y repuestos                        549.0   6.428571     0.0\n",
       "Medicina y Salud                              55.0   5.600000     0.0\n",
       "Dotación y elementos de protección personal   30.0   3.312707     1.0\n",
       "Gestión ambiental                             55.0   2.829268     0.0\n",
       "Cuidado personal y Belleza                     6.0   2.250000     1.0\n",
       "Textiles                                      10.0   2.021429     2.0\n",
       "Vigilancia y seguridad industrial              5.0   1.905726     2.0\n",
       "Compras Sostenibles                            5.0   1.619048     1.5"
      ]
     },
     "execution_count": 164,
     "metadata": {},
     "output_type": "execute_result"
    }
   ],
   "source": [
    "df.groupby('CATEGORÍA')['dias para aprobación'].agg(['max','mean','median']).sort_values(by='mean',ascending=False).head(10)"
   ]
  },
  {
   "cell_type": "markdown",
   "metadata": {},
   "source": [
    "# MODELO"
   ]
  },
  {
   "cell_type": "code",
   "execution_count": 7,
   "metadata": {},
   "outputs": [],
   "source": [
    "from pycaret.regression import *\n",
    "from sklearn.model_selection import train_test_split\n",
    "from sklearn.model_selection import cross_val_score\n",
    "import random"
   ]
  },
  {
   "cell_type": "markdown",
   "metadata": {},
   "source": [
    "### Variables usadas para entrenar el modelo inicial:\n",
    "- Dia fecha aprobacion = Dia de la semana que se aprobo la orden\n",
    "- Dia fecha orden = Dia de la semana que se hizo la orden\n",
    "- Mes fecha orden = Mes del año que se realizo la orden\n",
    "- semana del año orden = Semana del año que se hizo la orden\n",
    "- Usuario aprobador = Usuario que aprueba la orden  \n",
    "### Variable objetivo\n",
    "- dias para aprobación = Fecha aprobacion - fecha orden "
   ]
  },
  {
   "cell_type": "code",
   "execution_count": 66,
   "metadata": {},
   "outputs": [],
   "source": [
    "variables=df[['dia fecha aprobacion', 'dia fecha orden',\n",
    "       'mes fecha orden', 'semana del año orden','dias para aprobación']]"
   ]
  },
  {
   "cell_type": "code",
   "execution_count": 53,
   "metadata": {},
   "outputs": [
    {
     "data": {
      "image/png": "[encoded data removed]",
      "text/plain": [
       "<Figure size 1800x720 with 2 Axes>"
      ]
     },
     "metadata": {},
     "output_type": "display_data"
    }
   ],
   "source": [
    "msn.matrix(variables);"
   ]
  },
  {
   "cell_type": "code",
   "execution_count": 67,
   "metadata": {},
   "outputs": [],
   "source": [
    "variables.dropna(inplace=True)"
   ]
  },
  {
   "cell_type": "code",
   "execution_count": 9,
   "metadata": {},
   "outputs": [
    {
     "data": {
      "text/plain": [
       "'Esto es solo una aproximación, creo que se puede mejorar bastante'"
      ]
     },
     "execution_count": 9,
     "metadata": {},
     "output_type": "execute_result"
    }
   ],
   "source": [
    "#Manipulación de datos faltantes\n",
    "# variables['dias para aprobación']=np.where(variables['dias para aprobación'].isnull()==True,variables['dias para aprobación'].mode(),\n",
    "#                                           variables['dias para aprobación'])\n",
    "\n",
    "\"\"\"Esto es solo una aproximación, creo que se puede mejorar bastante\"\"\""
   ]
  },
  {
   "cell_type": "code",
   "execution_count": 68,
   "metadata": {},
   "outputs": [],
   "source": [
    "#Acomodando los datos para entrarlos al modelo\n",
    "variables['semana del año orden']=variables['semana del año orden'].astype('float64')\n",
    "variables['dias para aprobación']=variables['dias para aprobación'].astype('int64')"
   ]
  },
  {
   "cell_type": "code",
   "execution_count": 70,
   "metadata": {},
   "outputs": [
    {
     "name": "stdout",
     "output_type": "stream",
     "text": [
      "(14881, 5)\n",
      "(6378, 5)\n"
     ]
    }
   ],
   "source": [
    "#Datos de entrenamiento y prueba\n",
    "random.seed(21)\n",
    "train,test=train_test_split(variables,train_size=0.7)\n",
    "print(train.shape)\n",
    "print(test.shape)"
   ]
  },
  {
   "cell_type": "code",
   "execution_count": 71,
   "metadata": {},
   "outputs": [
    {
     "data": {
      "text/html": [
       "<style  type=\"text/css\" >\n",
       "#T_807a93ae_4bd1_11ec_9ac0_988d46c40cf1row38_col1,#T_807a93ae_4bd1_11ec_9ac0_988d46c40cf1row40_col1,#T_807a93ae_4bd1_11ec_9ac0_988d46c40cf1row42_col1{\n",
       "            background-color:  lightgreen;\n",
       "        }</style><table id=\"T_807a93ae_4bd1_11ec_9ac0_988d46c40cf1\" ><thead>    <tr>        <th class=\"blank level0\" ></th>        <th class=\"col_heading level0 col0\" >Description</th>        <th class=\"col_heading level0 col1\" >Value</th>    </tr></thead><tbody>\n",
       "                <tr>\n",
       "                        <th id=\"T_807a93ae_4bd1_11ec_9ac0_988d46c40cf1level0_row0\" class=\"row_heading level0 row0\" >0</th>\n",
       "                        <td id=\"T_807a93ae_4bd1_11ec_9ac0_988d46c40cf1row0_col0\" class=\"data row0 col0\" >session_id</td>\n",
       "                        <td id=\"T_807a93ae_4bd1_11ec_9ac0_988d46c40cf1row0_col1\" class=\"data row0 col1\" >2852</td>\n",
       "            </tr>\n",
       "            <tr>\n",
       "                        <th id=\"T_807a93ae_4bd1_11ec_9ac0_988d46c40cf1level0_row1\" class=\"row_heading level0 row1\" >1</th>\n",
       "                        <td id=\"T_807a93ae_4bd1_11ec_9ac0_988d46c40cf1row1_col0\" class=\"data row1 col0\" >Target</td>\n",
       "                        <td id=\"T_807a93ae_4bd1_11ec_9ac0_988d46c40cf1row1_col1\" class=\"data row1 col1\" >dias para aprobación</td>\n",
       "            </tr>\n",
       "            <tr>\n",
       "                        <th id=\"T_807a93ae_4bd1_11ec_9ac0_988d46c40cf1level0_row2\" class=\"row_heading level0 row2\" >2</th>\n",
       "                        <td id=\"T_807a93ae_4bd1_11ec_9ac0_988d46c40cf1row2_col0\" class=\"data row2 col0\" >Original Data</td>\n",
       "                        <td id=\"T_807a93ae_4bd1_11ec_9ac0_988d46c40cf1row2_col1\" class=\"data row2 col1\" >(14881, 5)</td>\n",
       "            </tr>\n",
       "            <tr>\n",
       "                        <th id=\"T_807a93ae_4bd1_11ec_9ac0_988d46c40cf1level0_row3\" class=\"row_heading level0 row3\" >3</th>\n",
       "                        <td id=\"T_807a93ae_4bd1_11ec_9ac0_988d46c40cf1row3_col0\" class=\"data row3 col0\" >Missing Values</td>\n",
       "                        <td id=\"T_807a93ae_4bd1_11ec_9ac0_988d46c40cf1row3_col1\" class=\"data row3 col1\" >False</td>\n",
       "            </tr>\n",
       "            <tr>\n",
       "                        <th id=\"T_807a93ae_4bd1_11ec_9ac0_988d46c40cf1level0_row4\" class=\"row_heading level0 row4\" >4</th>\n",
       "                        <td id=\"T_807a93ae_4bd1_11ec_9ac0_988d46c40cf1row4_col0\" class=\"data row4 col0\" >Numeric Features</td>\n",
       "                        <td id=\"T_807a93ae_4bd1_11ec_9ac0_988d46c40cf1row4_col1\" class=\"data row4 col1\" >4</td>\n",
       "            </tr>\n",
       "            <tr>\n",
       "                        <th id=\"T_807a93ae_4bd1_11ec_9ac0_988d46c40cf1level0_row5\" class=\"row_heading level0 row5\" >5</th>\n",
       "                        <td id=\"T_807a93ae_4bd1_11ec_9ac0_988d46c40cf1row5_col0\" class=\"data row5 col0\" >Categorical Features</td>\n",
       "                        <td id=\"T_807a93ae_4bd1_11ec_9ac0_988d46c40cf1row5_col1\" class=\"data row5 col1\" >0</td>\n",
       "            </tr>\n",
       "            <tr>\n",
       "                        <th id=\"T_807a93ae_4bd1_11ec_9ac0_988d46c40cf1level0_row6\" class=\"row_heading level0 row6\" >6</th>\n",
       "                        <td id=\"T_807a93ae_4bd1_11ec_9ac0_988d46c40cf1row6_col0\" class=\"data row6 col0\" >Ordinal Features</td>\n",
       "                        <td id=\"T_807a93ae_4bd1_11ec_9ac0_988d46c40cf1row6_col1\" class=\"data row6 col1\" >False</td>\n",
       "            </tr>\n",
       "            <tr>\n",
       "                        <th id=\"T_807a93ae_4bd1_11ec_9ac0_988d46c40cf1level0_row7\" class=\"row_heading level0 row7\" >7</th>\n",
       "                        <td id=\"T_807a93ae_4bd1_11ec_9ac0_988d46c40cf1row7_col0\" class=\"data row7 col0\" >High Cardinality Features</td>\n",
       "                        <td id=\"T_807a93ae_4bd1_11ec_9ac0_988d46c40cf1row7_col1\" class=\"data row7 col1\" >False</td>\n",
       "            </tr>\n",
       "            <tr>\n",
       "                        <th id=\"T_807a93ae_4bd1_11ec_9ac0_988d46c40cf1level0_row8\" class=\"row_heading level0 row8\" >8</th>\n",
       "                        <td id=\"T_807a93ae_4bd1_11ec_9ac0_988d46c40cf1row8_col0\" class=\"data row8 col0\" >High Cardinality Method</td>\n",
       "                        <td id=\"T_807a93ae_4bd1_11ec_9ac0_988d46c40cf1row8_col1\" class=\"data row8 col1\" >None</td>\n",
       "            </tr>\n",
       "            <tr>\n",
       "                        <th id=\"T_807a93ae_4bd1_11ec_9ac0_988d46c40cf1level0_row9\" class=\"row_heading level0 row9\" >9</th>\n",
       "                        <td id=\"T_807a93ae_4bd1_11ec_9ac0_988d46c40cf1row9_col0\" class=\"data row9 col0\" >Transformed Train Set</td>\n",
       "                        <td id=\"T_807a93ae_4bd1_11ec_9ac0_988d46c40cf1row9_col1\" class=\"data row9 col1\" >(9897, 3)</td>\n",
       "            </tr>\n",
       "            <tr>\n",
       "                        <th id=\"T_807a93ae_4bd1_11ec_9ac0_988d46c40cf1level0_row10\" class=\"row_heading level0 row10\" >10</th>\n",
       "                        <td id=\"T_807a93ae_4bd1_11ec_9ac0_988d46c40cf1row10_col0\" class=\"data row10 col0\" >Transformed Test Set</td>\n",
       "                        <td id=\"T_807a93ae_4bd1_11ec_9ac0_988d46c40cf1row10_col1\" class=\"data row10 col1\" >(4465, 3)</td>\n",
       "            </tr>\n",
       "            <tr>\n",
       "                        <th id=\"T_807a93ae_4bd1_11ec_9ac0_988d46c40cf1level0_row11\" class=\"row_heading level0 row11\" >11</th>\n",
       "                        <td id=\"T_807a93ae_4bd1_11ec_9ac0_988d46c40cf1row11_col0\" class=\"data row11 col0\" >Shuffle Train-Test</td>\n",
       "                        <td id=\"T_807a93ae_4bd1_11ec_9ac0_988d46c40cf1row11_col1\" class=\"data row11 col1\" >True</td>\n",
       "            </tr>\n",
       "            <tr>\n",
       "                        <th id=\"T_807a93ae_4bd1_11ec_9ac0_988d46c40cf1level0_row12\" class=\"row_heading level0 row12\" >12</th>\n",
       "                        <td id=\"T_807a93ae_4bd1_11ec_9ac0_988d46c40cf1row12_col0\" class=\"data row12 col0\" >Stratify Train-Test</td>\n",
       "                        <td id=\"T_807a93ae_4bd1_11ec_9ac0_988d46c40cf1row12_col1\" class=\"data row12 col1\" >False</td>\n",
       "            </tr>\n",
       "            <tr>\n",
       "                        <th id=\"T_807a93ae_4bd1_11ec_9ac0_988d46c40cf1level0_row13\" class=\"row_heading level0 row13\" >13</th>\n",
       "                        <td id=\"T_807a93ae_4bd1_11ec_9ac0_988d46c40cf1row13_col0\" class=\"data row13 col0\" >Fold Generator</td>\n",
       "                        <td id=\"T_807a93ae_4bd1_11ec_9ac0_988d46c40cf1row13_col1\" class=\"data row13 col1\" >KFold</td>\n",
       "            </tr>\n",
       "            <tr>\n",
       "                        <th id=\"T_807a93ae_4bd1_11ec_9ac0_988d46c40cf1level0_row14\" class=\"row_heading level0 row14\" >14</th>\n",
       "                        <td id=\"T_807a93ae_4bd1_11ec_9ac0_988d46c40cf1row14_col0\" class=\"data row14 col0\" >Fold Number</td>\n",
       "                        <td id=\"T_807a93ae_4bd1_11ec_9ac0_988d46c40cf1row14_col1\" class=\"data row14 col1\" >10</td>\n",
       "            </tr>\n",
       "            <tr>\n",
       "                        <th id=\"T_807a93ae_4bd1_11ec_9ac0_988d46c40cf1level0_row15\" class=\"row_heading level0 row15\" >15</th>\n",
       "                        <td id=\"T_807a93ae_4bd1_11ec_9ac0_988d46c40cf1row15_col0\" class=\"data row15 col0\" >CPU Jobs</td>\n",
       "                        <td id=\"T_807a93ae_4bd1_11ec_9ac0_988d46c40cf1row15_col1\" class=\"data row15 col1\" >-1</td>\n",
       "            </tr>\n",
       "            <tr>\n",
       "                        <th id=\"T_807a93ae_4bd1_11ec_9ac0_988d46c40cf1level0_row16\" class=\"row_heading level0 row16\" >16</th>\n",
       "                        <td id=\"T_807a93ae_4bd1_11ec_9ac0_988d46c40cf1row16_col0\" class=\"data row16 col0\" >Use GPU</td>\n",
       "                        <td id=\"T_807a93ae_4bd1_11ec_9ac0_988d46c40cf1row16_col1\" class=\"data row16 col1\" >False</td>\n",
       "            </tr>\n",
       "            <tr>\n",
       "                        <th id=\"T_807a93ae_4bd1_11ec_9ac0_988d46c40cf1level0_row17\" class=\"row_heading level0 row17\" >17</th>\n",
       "                        <td id=\"T_807a93ae_4bd1_11ec_9ac0_988d46c40cf1row17_col0\" class=\"data row17 col0\" >Log Experiment</td>\n",
       "                        <td id=\"T_807a93ae_4bd1_11ec_9ac0_988d46c40cf1row17_col1\" class=\"data row17 col1\" >False</td>\n",
       "            </tr>\n",
       "            <tr>\n",
       "                        <th id=\"T_807a93ae_4bd1_11ec_9ac0_988d46c40cf1level0_row18\" class=\"row_heading level0 row18\" >18</th>\n",
       "                        <td id=\"T_807a93ae_4bd1_11ec_9ac0_988d46c40cf1row18_col0\" class=\"data row18 col0\" >Experiment Name</td>\n",
       "                        <td id=\"T_807a93ae_4bd1_11ec_9ac0_988d46c40cf1row18_col1\" class=\"data row18 col1\" >reg-default-name</td>\n",
       "            </tr>\n",
       "            <tr>\n",
       "                        <th id=\"T_807a93ae_4bd1_11ec_9ac0_988d46c40cf1level0_row19\" class=\"row_heading level0 row19\" >19</th>\n",
       "                        <td id=\"T_807a93ae_4bd1_11ec_9ac0_988d46c40cf1row19_col0\" class=\"data row19 col0\" >USI</td>\n",
       "                        <td id=\"T_807a93ae_4bd1_11ec_9ac0_988d46c40cf1row19_col1\" class=\"data row19 col1\" >71fe</td>\n",
       "            </tr>\n",
       "            <tr>\n",
       "                        <th id=\"T_807a93ae_4bd1_11ec_9ac0_988d46c40cf1level0_row20\" class=\"row_heading level0 row20\" >20</th>\n",
       "                        <td id=\"T_807a93ae_4bd1_11ec_9ac0_988d46c40cf1row20_col0\" class=\"data row20 col0\" >Imputation Type</td>\n",
       "                        <td id=\"T_807a93ae_4bd1_11ec_9ac0_988d46c40cf1row20_col1\" class=\"data row20 col1\" >simple</td>\n",
       "            </tr>\n",
       "            <tr>\n",
       "                        <th id=\"T_807a93ae_4bd1_11ec_9ac0_988d46c40cf1level0_row21\" class=\"row_heading level0 row21\" >21</th>\n",
       "                        <td id=\"T_807a93ae_4bd1_11ec_9ac0_988d46c40cf1row21_col0\" class=\"data row21 col0\" >Iterative Imputation Iteration</td>\n",
       "                        <td id=\"T_807a93ae_4bd1_11ec_9ac0_988d46c40cf1row21_col1\" class=\"data row21 col1\" >None</td>\n",
       "            </tr>\n",
       "            <tr>\n",
       "                        <th id=\"T_807a93ae_4bd1_11ec_9ac0_988d46c40cf1level0_row22\" class=\"row_heading level0 row22\" >22</th>\n",
       "                        <td id=\"T_807a93ae_4bd1_11ec_9ac0_988d46c40cf1row22_col0\" class=\"data row22 col0\" >Numeric Imputer</td>\n",
       "                        <td id=\"T_807a93ae_4bd1_11ec_9ac0_988d46c40cf1row22_col1\" class=\"data row22 col1\" >mean</td>\n",
       "            </tr>\n",
       "            <tr>\n",
       "                        <th id=\"T_807a93ae_4bd1_11ec_9ac0_988d46c40cf1level0_row23\" class=\"row_heading level0 row23\" >23</th>\n",
       "                        <td id=\"T_807a93ae_4bd1_11ec_9ac0_988d46c40cf1row23_col0\" class=\"data row23 col0\" >Iterative Imputation Numeric Model</td>\n",
       "                        <td id=\"T_807a93ae_4bd1_11ec_9ac0_988d46c40cf1row23_col1\" class=\"data row23 col1\" >None</td>\n",
       "            </tr>\n",
       "            <tr>\n",
       "                        <th id=\"T_807a93ae_4bd1_11ec_9ac0_988d46c40cf1level0_row24\" class=\"row_heading level0 row24\" >24</th>\n",
       "                        <td id=\"T_807a93ae_4bd1_11ec_9ac0_988d46c40cf1row24_col0\" class=\"data row24 col0\" >Categorical Imputer</td>\n",
       "                        <td id=\"T_807a93ae_4bd1_11ec_9ac0_988d46c40cf1row24_col1\" class=\"data row24 col1\" >constant</td>\n",
       "            </tr>\n",
       "            <tr>\n",
       "                        <th id=\"T_807a93ae_4bd1_11ec_9ac0_988d46c40cf1level0_row25\" class=\"row_heading level0 row25\" >25</th>\n",
       "                        <td id=\"T_807a93ae_4bd1_11ec_9ac0_988d46c40cf1row25_col0\" class=\"data row25 col0\" >Iterative Imputation Categorical Model</td>\n",
       "                        <td id=\"T_807a93ae_4bd1_11ec_9ac0_988d46c40cf1row25_col1\" class=\"data row25 col1\" >None</td>\n",
       "            </tr>\n",
       "            <tr>\n",
       "                        <th id=\"T_807a93ae_4bd1_11ec_9ac0_988d46c40cf1level0_row26\" class=\"row_heading level0 row26\" >26</th>\n",
       "                        <td id=\"T_807a93ae_4bd1_11ec_9ac0_988d46c40cf1row26_col0\" class=\"data row26 col0\" >Unknown Categoricals Handling</td>\n",
       "                        <td id=\"T_807a93ae_4bd1_11ec_9ac0_988d46c40cf1row26_col1\" class=\"data row26 col1\" >least_frequent</td>\n",
       "            </tr>\n",
       "            <tr>\n",
       "                        <th id=\"T_807a93ae_4bd1_11ec_9ac0_988d46c40cf1level0_row27\" class=\"row_heading level0 row27\" >27</th>\n",
       "                        <td id=\"T_807a93ae_4bd1_11ec_9ac0_988d46c40cf1row27_col0\" class=\"data row27 col0\" >Normalize</td>\n",
       "                        <td id=\"T_807a93ae_4bd1_11ec_9ac0_988d46c40cf1row27_col1\" class=\"data row27 col1\" >False</td>\n",
       "            </tr>\n",
       "            <tr>\n",
       "                        <th id=\"T_807a93ae_4bd1_11ec_9ac0_988d46c40cf1level0_row28\" class=\"row_heading level0 row28\" >28</th>\n",
       "                        <td id=\"T_807a93ae_4bd1_11ec_9ac0_988d46c40cf1row28_col0\" class=\"data row28 col0\" >Normalize Method</td>\n",
       "                        <td id=\"T_807a93ae_4bd1_11ec_9ac0_988d46c40cf1row28_col1\" class=\"data row28 col1\" >None</td>\n",
       "            </tr>\n",
       "            <tr>\n",
       "                        <th id=\"T_807a93ae_4bd1_11ec_9ac0_988d46c40cf1level0_row29\" class=\"row_heading level0 row29\" >29</th>\n",
       "                        <td id=\"T_807a93ae_4bd1_11ec_9ac0_988d46c40cf1row29_col0\" class=\"data row29 col0\" >Transformation</td>\n",
       "                        <td id=\"T_807a93ae_4bd1_11ec_9ac0_988d46c40cf1row29_col1\" class=\"data row29 col1\" >False</td>\n",
       "            </tr>\n",
       "            <tr>\n",
       "                        <th id=\"T_807a93ae_4bd1_11ec_9ac0_988d46c40cf1level0_row30\" class=\"row_heading level0 row30\" >30</th>\n",
       "                        <td id=\"T_807a93ae_4bd1_11ec_9ac0_988d46c40cf1row30_col0\" class=\"data row30 col0\" >Transformation Method</td>\n",
       "                        <td id=\"T_807a93ae_4bd1_11ec_9ac0_988d46c40cf1row30_col1\" class=\"data row30 col1\" >None</td>\n",
       "            </tr>\n",
       "            <tr>\n",
       "                        <th id=\"T_807a93ae_4bd1_11ec_9ac0_988d46c40cf1level0_row31\" class=\"row_heading level0 row31\" >31</th>\n",
       "                        <td id=\"T_807a93ae_4bd1_11ec_9ac0_988d46c40cf1row31_col0\" class=\"data row31 col0\" >PCA</td>\n",
       "                        <td id=\"T_807a93ae_4bd1_11ec_9ac0_988d46c40cf1row31_col1\" class=\"data row31 col1\" >False</td>\n",
       "            </tr>\n",
       "            <tr>\n",
       "                        <th id=\"T_807a93ae_4bd1_11ec_9ac0_988d46c40cf1level0_row32\" class=\"row_heading level0 row32\" >32</th>\n",
       "                        <td id=\"T_807a93ae_4bd1_11ec_9ac0_988d46c40cf1row32_col0\" class=\"data row32 col0\" >PCA Method</td>\n",
       "                        <td id=\"T_807a93ae_4bd1_11ec_9ac0_988d46c40cf1row32_col1\" class=\"data row32 col1\" >None</td>\n",
       "            </tr>\n",
       "            <tr>\n",
       "                        <th id=\"T_807a93ae_4bd1_11ec_9ac0_988d46c40cf1level0_row33\" class=\"row_heading level0 row33\" >33</th>\n",
       "                        <td id=\"T_807a93ae_4bd1_11ec_9ac0_988d46c40cf1row33_col0\" class=\"data row33 col0\" >PCA Components</td>\n",
       "                        <td id=\"T_807a93ae_4bd1_11ec_9ac0_988d46c40cf1row33_col1\" class=\"data row33 col1\" >None</td>\n",
       "            </tr>\n",
       "            <tr>\n",
       "                        <th id=\"T_807a93ae_4bd1_11ec_9ac0_988d46c40cf1level0_row34\" class=\"row_heading level0 row34\" >34</th>\n",
       "                        <td id=\"T_807a93ae_4bd1_11ec_9ac0_988d46c40cf1row34_col0\" class=\"data row34 col0\" >Ignore Low Variance</td>\n",
       "                        <td id=\"T_807a93ae_4bd1_11ec_9ac0_988d46c40cf1row34_col1\" class=\"data row34 col1\" >False</td>\n",
       "            </tr>\n",
       "            <tr>\n",
       "                        <th id=\"T_807a93ae_4bd1_11ec_9ac0_988d46c40cf1level0_row35\" class=\"row_heading level0 row35\" >35</th>\n",
       "                        <td id=\"T_807a93ae_4bd1_11ec_9ac0_988d46c40cf1row35_col0\" class=\"data row35 col0\" >Combine Rare Levels</td>\n",
       "                        <td id=\"T_807a93ae_4bd1_11ec_9ac0_988d46c40cf1row35_col1\" class=\"data row35 col1\" >False</td>\n",
       "            </tr>\n",
       "            <tr>\n",
       "                        <th id=\"T_807a93ae_4bd1_11ec_9ac0_988d46c40cf1level0_row36\" class=\"row_heading level0 row36\" >36</th>\n",
       "                        <td id=\"T_807a93ae_4bd1_11ec_9ac0_988d46c40cf1row36_col0\" class=\"data row36 col0\" >Rare Level Threshold</td>\n",
       "                        <td id=\"T_807a93ae_4bd1_11ec_9ac0_988d46c40cf1row36_col1\" class=\"data row36 col1\" >None</td>\n",
       "            </tr>\n",
       "            <tr>\n",
       "                        <th id=\"T_807a93ae_4bd1_11ec_9ac0_988d46c40cf1level0_row37\" class=\"row_heading level0 row37\" >37</th>\n",
       "                        <td id=\"T_807a93ae_4bd1_11ec_9ac0_988d46c40cf1row37_col0\" class=\"data row37 col0\" >Numeric Binning</td>\n",
       "                        <td id=\"T_807a93ae_4bd1_11ec_9ac0_988d46c40cf1row37_col1\" class=\"data row37 col1\" >False</td>\n",
       "            </tr>\n",
       "            <tr>\n",
       "                        <th id=\"T_807a93ae_4bd1_11ec_9ac0_988d46c40cf1level0_row38\" class=\"row_heading level0 row38\" >38</th>\n",
       "                        <td id=\"T_807a93ae_4bd1_11ec_9ac0_988d46c40cf1row38_col0\" class=\"data row38 col0\" >Remove Outliers</td>\n",
       "                        <td id=\"T_807a93ae_4bd1_11ec_9ac0_988d46c40cf1row38_col1\" class=\"data row38 col1\" >True</td>\n",
       "            </tr>\n",
       "            <tr>\n",
       "                        <th id=\"T_807a93ae_4bd1_11ec_9ac0_988d46c40cf1level0_row39\" class=\"row_heading level0 row39\" >39</th>\n",
       "                        <td id=\"T_807a93ae_4bd1_11ec_9ac0_988d46c40cf1row39_col0\" class=\"data row39 col0\" >Outliers Threshold</td>\n",
       "                        <td id=\"T_807a93ae_4bd1_11ec_9ac0_988d46c40cf1row39_col1\" class=\"data row39 col1\" >0.050000</td>\n",
       "            </tr>\n",
       "            <tr>\n",
       "                        <th id=\"T_807a93ae_4bd1_11ec_9ac0_988d46c40cf1level0_row40\" class=\"row_heading level0 row40\" >40</th>\n",
       "                        <td id=\"T_807a93ae_4bd1_11ec_9ac0_988d46c40cf1row40_col0\" class=\"data row40 col0\" >Remove Multicollinearity</td>\n",
       "                        <td id=\"T_807a93ae_4bd1_11ec_9ac0_988d46c40cf1row40_col1\" class=\"data row40 col1\" >True</td>\n",
       "            </tr>\n",
       "            <tr>\n",
       "                        <th id=\"T_807a93ae_4bd1_11ec_9ac0_988d46c40cf1level0_row41\" class=\"row_heading level0 row41\" >41</th>\n",
       "                        <td id=\"T_807a93ae_4bd1_11ec_9ac0_988d46c40cf1row41_col0\" class=\"data row41 col0\" >Multicollinearity Threshold</td>\n",
       "                        <td id=\"T_807a93ae_4bd1_11ec_9ac0_988d46c40cf1row41_col1\" class=\"data row41 col1\" >0.800000</td>\n",
       "            </tr>\n",
       "            <tr>\n",
       "                        <th id=\"T_807a93ae_4bd1_11ec_9ac0_988d46c40cf1level0_row42\" class=\"row_heading level0 row42\" >42</th>\n",
       "                        <td id=\"T_807a93ae_4bd1_11ec_9ac0_988d46c40cf1row42_col0\" class=\"data row42 col0\" >Remove Perfect Collinearity</td>\n",
       "                        <td id=\"T_807a93ae_4bd1_11ec_9ac0_988d46c40cf1row42_col1\" class=\"data row42 col1\" >True</td>\n",
       "            </tr>\n",
       "            <tr>\n",
       "                        <th id=\"T_807a93ae_4bd1_11ec_9ac0_988d46c40cf1level0_row43\" class=\"row_heading level0 row43\" >43</th>\n",
       "                        <td id=\"T_807a93ae_4bd1_11ec_9ac0_988d46c40cf1row43_col0\" class=\"data row43 col0\" >Clustering</td>\n",
       "                        <td id=\"T_807a93ae_4bd1_11ec_9ac0_988d46c40cf1row43_col1\" class=\"data row43 col1\" >False</td>\n",
       "            </tr>\n",
       "            <tr>\n",
       "                        <th id=\"T_807a93ae_4bd1_11ec_9ac0_988d46c40cf1level0_row44\" class=\"row_heading level0 row44\" >44</th>\n",
       "                        <td id=\"T_807a93ae_4bd1_11ec_9ac0_988d46c40cf1row44_col0\" class=\"data row44 col0\" >Clustering Iteration</td>\n",
       "                        <td id=\"T_807a93ae_4bd1_11ec_9ac0_988d46c40cf1row44_col1\" class=\"data row44 col1\" >None</td>\n",
       "            </tr>\n",
       "            <tr>\n",
       "                        <th id=\"T_807a93ae_4bd1_11ec_9ac0_988d46c40cf1level0_row45\" class=\"row_heading level0 row45\" >45</th>\n",
       "                        <td id=\"T_807a93ae_4bd1_11ec_9ac0_988d46c40cf1row45_col0\" class=\"data row45 col0\" >Polynomial Features</td>\n",
       "                        <td id=\"T_807a93ae_4bd1_11ec_9ac0_988d46c40cf1row45_col1\" class=\"data row45 col1\" >False</td>\n",
       "            </tr>\n",
       "            <tr>\n",
       "                        <th id=\"T_807a93ae_4bd1_11ec_9ac0_988d46c40cf1level0_row46\" class=\"row_heading level0 row46\" >46</th>\n",
       "                        <td id=\"T_807a93ae_4bd1_11ec_9ac0_988d46c40cf1row46_col0\" class=\"data row46 col0\" >Polynomial Degree</td>\n",
       "                        <td id=\"T_807a93ae_4bd1_11ec_9ac0_988d46c40cf1row46_col1\" class=\"data row46 col1\" >None</td>\n",
       "            </tr>\n",
       "            <tr>\n",
       "                        <th id=\"T_807a93ae_4bd1_11ec_9ac0_988d46c40cf1level0_row47\" class=\"row_heading level0 row47\" >47</th>\n",
       "                        <td id=\"T_807a93ae_4bd1_11ec_9ac0_988d46c40cf1row47_col0\" class=\"data row47 col0\" >Trignometry Features</td>\n",
       "                        <td id=\"T_807a93ae_4bd1_11ec_9ac0_988d46c40cf1row47_col1\" class=\"data row47 col1\" >False</td>\n",
       "            </tr>\n",
       "            <tr>\n",
       "                        <th id=\"T_807a93ae_4bd1_11ec_9ac0_988d46c40cf1level0_row48\" class=\"row_heading level0 row48\" >48</th>\n",
       "                        <td id=\"T_807a93ae_4bd1_11ec_9ac0_988d46c40cf1row48_col0\" class=\"data row48 col0\" >Polynomial Threshold</td>\n",
       "                        <td id=\"T_807a93ae_4bd1_11ec_9ac0_988d46c40cf1row48_col1\" class=\"data row48 col1\" >None</td>\n",
       "            </tr>\n",
       "            <tr>\n",
       "                        <th id=\"T_807a93ae_4bd1_11ec_9ac0_988d46c40cf1level0_row49\" class=\"row_heading level0 row49\" >49</th>\n",
       "                        <td id=\"T_807a93ae_4bd1_11ec_9ac0_988d46c40cf1row49_col0\" class=\"data row49 col0\" >Group Features</td>\n",
       "                        <td id=\"T_807a93ae_4bd1_11ec_9ac0_988d46c40cf1row49_col1\" class=\"data row49 col1\" >False</td>\n",
       "            </tr>\n",
       "            <tr>\n",
       "                        <th id=\"T_807a93ae_4bd1_11ec_9ac0_988d46c40cf1level0_row50\" class=\"row_heading level0 row50\" >50</th>\n",
       "                        <td id=\"T_807a93ae_4bd1_11ec_9ac0_988d46c40cf1row50_col0\" class=\"data row50 col0\" >Feature Selection</td>\n",
       "                        <td id=\"T_807a93ae_4bd1_11ec_9ac0_988d46c40cf1row50_col1\" class=\"data row50 col1\" >False</td>\n",
       "            </tr>\n",
       "            <tr>\n",
       "                        <th id=\"T_807a93ae_4bd1_11ec_9ac0_988d46c40cf1level0_row51\" class=\"row_heading level0 row51\" >51</th>\n",
       "                        <td id=\"T_807a93ae_4bd1_11ec_9ac0_988d46c40cf1row51_col0\" class=\"data row51 col0\" >Feature Selection Method</td>\n",
       "                        <td id=\"T_807a93ae_4bd1_11ec_9ac0_988d46c40cf1row51_col1\" class=\"data row51 col1\" >classic</td>\n",
       "            </tr>\n",
       "            <tr>\n",
       "                        <th id=\"T_807a93ae_4bd1_11ec_9ac0_988d46c40cf1level0_row52\" class=\"row_heading level0 row52\" >52</th>\n",
       "                        <td id=\"T_807a93ae_4bd1_11ec_9ac0_988d46c40cf1row52_col0\" class=\"data row52 col0\" >Features Selection Threshold</td>\n",
       "                        <td id=\"T_807a93ae_4bd1_11ec_9ac0_988d46c40cf1row52_col1\" class=\"data row52 col1\" >None</td>\n",
       "            </tr>\n",
       "            <tr>\n",
       "                        <th id=\"T_807a93ae_4bd1_11ec_9ac0_988d46c40cf1level0_row53\" class=\"row_heading level0 row53\" >53</th>\n",
       "                        <td id=\"T_807a93ae_4bd1_11ec_9ac0_988d46c40cf1row53_col0\" class=\"data row53 col0\" >Feature Interaction</td>\n",
       "                        <td id=\"T_807a93ae_4bd1_11ec_9ac0_988d46c40cf1row53_col1\" class=\"data row53 col1\" >False</td>\n",
       "            </tr>\n",
       "            <tr>\n",
       "                        <th id=\"T_807a93ae_4bd1_11ec_9ac0_988d46c40cf1level0_row54\" class=\"row_heading level0 row54\" >54</th>\n",
       "                        <td id=\"T_807a93ae_4bd1_11ec_9ac0_988d46c40cf1row54_col0\" class=\"data row54 col0\" >Feature Ratio</td>\n",
       "                        <td id=\"T_807a93ae_4bd1_11ec_9ac0_988d46c40cf1row54_col1\" class=\"data row54 col1\" >False</td>\n",
       "            </tr>\n",
       "            <tr>\n",
       "                        <th id=\"T_807a93ae_4bd1_11ec_9ac0_988d46c40cf1level0_row55\" class=\"row_heading level0 row55\" >55</th>\n",
       "                        <td id=\"T_807a93ae_4bd1_11ec_9ac0_988d46c40cf1row55_col0\" class=\"data row55 col0\" >Interaction Threshold</td>\n",
       "                        <td id=\"T_807a93ae_4bd1_11ec_9ac0_988d46c40cf1row55_col1\" class=\"data row55 col1\" >None</td>\n",
       "            </tr>\n",
       "            <tr>\n",
       "                        <th id=\"T_807a93ae_4bd1_11ec_9ac0_988d46c40cf1level0_row56\" class=\"row_heading level0 row56\" >56</th>\n",
       "                        <td id=\"T_807a93ae_4bd1_11ec_9ac0_988d46c40cf1row56_col0\" class=\"data row56 col0\" >Transform Target</td>\n",
       "                        <td id=\"T_807a93ae_4bd1_11ec_9ac0_988d46c40cf1row56_col1\" class=\"data row56 col1\" >False</td>\n",
       "            </tr>\n",
       "            <tr>\n",
       "                        <th id=\"T_807a93ae_4bd1_11ec_9ac0_988d46c40cf1level0_row57\" class=\"row_heading level0 row57\" >57</th>\n",
       "                        <td id=\"T_807a93ae_4bd1_11ec_9ac0_988d46c40cf1row57_col0\" class=\"data row57 col0\" >Transform Target Method</td>\n",
       "                        <td id=\"T_807a93ae_4bd1_11ec_9ac0_988d46c40cf1row57_col1\" class=\"data row57 col1\" >box-cox</td>\n",
       "            </tr>\n",
       "    </tbody></table>"
      ],
      "text/plain": [
       "<pandas.io.formats.style.Styler at 0x158a39ae310>"
      ]
     },
     "metadata": {},
     "output_type": "display_data"
    }
   ],
   "source": [
    "setup(train,target='dias para aprobación',\n",
    "            train_size=0.7,\n",
    "            preprocess=True,\n",
    "            remove_multicollinearity=True,\n",
    "             multicollinearity_threshold=0.8,\n",
    "            numeric_features=['dia fecha aprobacion','dia fecha orden',\n",
    "                           'mes fecha orden','semana del año orden'],\n",
    "      remove_outliers=True\n",
    "      \n",
    "            );"
   ]
  },
  {
   "cell_type": "code",
   "execution_count": 72,
   "metadata": {},
   "outputs": [
    {
     "data": {
      "text/html": [
       "<style  type=\"text/css\" >\n",
       "    #T_8a9c5657_4bd1_11ec_b275_988d46c40cf1 th {\n",
       "          text-align: left;\n",
       "    }#T_8a9c5657_4bd1_11ec_b275_988d46c40cf1row0_col0,#T_8a9c5657_4bd1_11ec_b275_988d46c40cf1row1_col0,#T_8a9c5657_4bd1_11ec_b275_988d46c40cf1row1_col1,#T_8a9c5657_4bd1_11ec_b275_988d46c40cf1row1_col2,#T_8a9c5657_4bd1_11ec_b275_988d46c40cf1row1_col3,#T_8a9c5657_4bd1_11ec_b275_988d46c40cf1row1_col4,#T_8a9c5657_4bd1_11ec_b275_988d46c40cf1row1_col5,#T_8a9c5657_4bd1_11ec_b275_988d46c40cf1row1_col6,#T_8a9c5657_4bd1_11ec_b275_988d46c40cf1row2_col0,#T_8a9c5657_4bd1_11ec_b275_988d46c40cf1row2_col1,#T_8a9c5657_4bd1_11ec_b275_988d46c40cf1row2_col2,#T_8a9c5657_4bd1_11ec_b275_988d46c40cf1row2_col3,#T_8a9c5657_4bd1_11ec_b275_988d46c40cf1row2_col4,#T_8a9c5657_4bd1_11ec_b275_988d46c40cf1row2_col5,#T_8a9c5657_4bd1_11ec_b275_988d46c40cf1row2_col6,#T_8a9c5657_4bd1_11ec_b275_988d46c40cf1row3_col0,#T_8a9c5657_4bd1_11ec_b275_988d46c40cf1row3_col1,#T_8a9c5657_4bd1_11ec_b275_988d46c40cf1row3_col2,#T_8a9c5657_4bd1_11ec_b275_988d46c40cf1row3_col3,#T_8a9c5657_4bd1_11ec_b275_988d46c40cf1row3_col4,#T_8a9c5657_4bd1_11ec_b275_988d46c40cf1row3_col5,#T_8a9c5657_4bd1_11ec_b275_988d46c40cf1row3_col6,#T_8a9c5657_4bd1_11ec_b275_988d46c40cf1row4_col0,#T_8a9c5657_4bd1_11ec_b275_988d46c40cf1row4_col1,#T_8a9c5657_4bd1_11ec_b275_988d46c40cf1row4_col2,#T_8a9c5657_4bd1_11ec_b275_988d46c40cf1row4_col3,#T_8a9c5657_4bd1_11ec_b275_988d46c40cf1row4_col4,#T_8a9c5657_4bd1_11ec_b275_988d46c40cf1row4_col5,#T_8a9c5657_4bd1_11ec_b275_988d46c40cf1row4_col6,#T_8a9c5657_4bd1_11ec_b275_988d46c40cf1row5_col0,#T_8a9c5657_4bd1_11ec_b275_988d46c40cf1row5_col1,#T_8a9c5657_4bd1_11ec_b275_988d46c40cf1row5_col2,#T_8a9c5657_4bd1_11ec_b275_988d46c40cf1row5_col3,#T_8a9c5657_4bd1_11ec_b275_988d46c40cf1row5_col4,#T_8a9c5657_4bd1_11ec_b275_988d46c40cf1row5_col5,#T_8a9c5657_4bd1_11ec_b275_988d46c40cf1row5_col6,#T_8a9c5657_4bd1_11ec_b275_988d46c40cf1row6_col0,#T_8a9c5657_4bd1_11ec_b275_988d46c40cf1row6_col1,#T_8a9c5657_4bd1_11ec_b275_988d46c40cf1row6_col2,#T_8a9c5657_4bd1_11ec_b275_988d46c40cf1row6_col3,#T_8a9c5657_4bd1_11ec_b275_988d46c40cf1row6_col4,#T_8a9c5657_4bd1_11ec_b275_988d46c40cf1row6_col5,#T_8a9c5657_4bd1_11ec_b275_988d46c40cf1row6_col6,#T_8a9c5657_4bd1_11ec_b275_988d46c40cf1row7_col0,#T_8a9c5657_4bd1_11ec_b275_988d46c40cf1row7_col1,#T_8a9c5657_4bd1_11ec_b275_988d46c40cf1row7_col2,#T_8a9c5657_4bd1_11ec_b275_988d46c40cf1row7_col3,#T_8a9c5657_4bd1_11ec_b275_988d46c40cf1row7_col4,#T_8a9c5657_4bd1_11ec_b275_988d46c40cf1row7_col5,#T_8a9c5657_4bd1_11ec_b275_988d46c40cf1row7_col6,#T_8a9c5657_4bd1_11ec_b275_988d46c40cf1row8_col0,#T_8a9c5657_4bd1_11ec_b275_988d46c40cf1row8_col1,#T_8a9c5657_4bd1_11ec_b275_988d46c40cf1row8_col2,#T_8a9c5657_4bd1_11ec_b275_988d46c40cf1row8_col3,#T_8a9c5657_4bd1_11ec_b275_988d46c40cf1row8_col4,#T_8a9c5657_4bd1_11ec_b275_988d46c40cf1row8_col5,#T_8a9c5657_4bd1_11ec_b275_988d46c40cf1row8_col6,#T_8a9c5657_4bd1_11ec_b275_988d46c40cf1row9_col0,#T_8a9c5657_4bd1_11ec_b275_988d46c40cf1row9_col1,#T_8a9c5657_4bd1_11ec_b275_988d46c40cf1row9_col2,#T_8a9c5657_4bd1_11ec_b275_988d46c40cf1row9_col3,#T_8a9c5657_4bd1_11ec_b275_988d46c40cf1row9_col4,#T_8a9c5657_4bd1_11ec_b275_988d46c40cf1row9_col5,#T_8a9c5657_4bd1_11ec_b275_988d46c40cf1row9_col6,#T_8a9c5657_4bd1_11ec_b275_988d46c40cf1row10_col0,#T_8a9c5657_4bd1_11ec_b275_988d46c40cf1row10_col1,#T_8a9c5657_4bd1_11ec_b275_988d46c40cf1row10_col2,#T_8a9c5657_4bd1_11ec_b275_988d46c40cf1row10_col3,#T_8a9c5657_4bd1_11ec_b275_988d46c40cf1row10_col4,#T_8a9c5657_4bd1_11ec_b275_988d46c40cf1row10_col5,#T_8a9c5657_4bd1_11ec_b275_988d46c40cf1row10_col6,#T_8a9c5657_4bd1_11ec_b275_988d46c40cf1row11_col0,#T_8a9c5657_4bd1_11ec_b275_988d46c40cf1row11_col1,#T_8a9c5657_4bd1_11ec_b275_988d46c40cf1row11_col2,#T_8a9c5657_4bd1_11ec_b275_988d46c40cf1row11_col3,#T_8a9c5657_4bd1_11ec_b275_988d46c40cf1row11_col4,#T_8a9c5657_4bd1_11ec_b275_988d46c40cf1row11_col5,#T_8a9c5657_4bd1_11ec_b275_988d46c40cf1row11_col6,#T_8a9c5657_4bd1_11ec_b275_988d46c40cf1row12_col0,#T_8a9c5657_4bd1_11ec_b275_988d46c40cf1row12_col1,#T_8a9c5657_4bd1_11ec_b275_988d46c40cf1row12_col2,#T_8a9c5657_4bd1_11ec_b275_988d46c40cf1row12_col3,#T_8a9c5657_4bd1_11ec_b275_988d46c40cf1row12_col4,#T_8a9c5657_4bd1_11ec_b275_988d46c40cf1row12_col5,#T_8a9c5657_4bd1_11ec_b275_988d46c40cf1row12_col6,#T_8a9c5657_4bd1_11ec_b275_988d46c40cf1row13_col0,#T_8a9c5657_4bd1_11ec_b275_988d46c40cf1row13_col1,#T_8a9c5657_4bd1_11ec_b275_988d46c40cf1row13_col2,#T_8a9c5657_4bd1_11ec_b275_988d46c40cf1row13_col3,#T_8a9c5657_4bd1_11ec_b275_988d46c40cf1row13_col4,#T_8a9c5657_4bd1_11ec_b275_988d46c40cf1row13_col5,#T_8a9c5657_4bd1_11ec_b275_988d46c40cf1row13_col6,#T_8a9c5657_4bd1_11ec_b275_988d46c40cf1row14_col0,#T_8a9c5657_4bd1_11ec_b275_988d46c40cf1row14_col1,#T_8a9c5657_4bd1_11ec_b275_988d46c40cf1row14_col2,#T_8a9c5657_4bd1_11ec_b275_988d46c40cf1row14_col3,#T_8a9c5657_4bd1_11ec_b275_988d46c40cf1row14_col4,#T_8a9c5657_4bd1_11ec_b275_988d46c40cf1row14_col5,#T_8a9c5657_4bd1_11ec_b275_988d46c40cf1row14_col6,#T_8a9c5657_4bd1_11ec_b275_988d46c40cf1row15_col0,#T_8a9c5657_4bd1_11ec_b275_988d46c40cf1row15_col1,#T_8a9c5657_4bd1_11ec_b275_988d46c40cf1row15_col2,#T_8a9c5657_4bd1_11ec_b275_988d46c40cf1row15_col3,#T_8a9c5657_4bd1_11ec_b275_988d46c40cf1row15_col4,#T_8a9c5657_4bd1_11ec_b275_988d46c40cf1row15_col5,#T_8a9c5657_4bd1_11ec_b275_988d46c40cf1row15_col6,#T_8a9c5657_4bd1_11ec_b275_988d46c40cf1row16_col0,#T_8a9c5657_4bd1_11ec_b275_988d46c40cf1row16_col1,#T_8a9c5657_4bd1_11ec_b275_988d46c40cf1row16_col2,#T_8a9c5657_4bd1_11ec_b275_988d46c40cf1row16_col3,#T_8a9c5657_4bd1_11ec_b275_988d46c40cf1row16_col4,#T_8a9c5657_4bd1_11ec_b275_988d46c40cf1row16_col5,#T_8a9c5657_4bd1_11ec_b275_988d46c40cf1row16_col6{\n",
       "            text-align:  left;\n",
       "            text-align:  left;\n",
       "        }#T_8a9c5657_4bd1_11ec_b275_988d46c40cf1row0_col1,#T_8a9c5657_4bd1_11ec_b275_988d46c40cf1row0_col2,#T_8a9c5657_4bd1_11ec_b275_988d46c40cf1row0_col3,#T_8a9c5657_4bd1_11ec_b275_988d46c40cf1row0_col4,#T_8a9c5657_4bd1_11ec_b275_988d46c40cf1row0_col5,#T_8a9c5657_4bd1_11ec_b275_988d46c40cf1row0_col6{\n",
       "            text-align:  left;\n",
       "            text-align:  left;\n",
       "            background-color:  yellow;\n",
       "        }#T_8a9c5657_4bd1_11ec_b275_988d46c40cf1row0_col7,#T_8a9c5657_4bd1_11ec_b275_988d46c40cf1row1_col7,#T_8a9c5657_4bd1_11ec_b275_988d46c40cf1row2_col7,#T_8a9c5657_4bd1_11ec_b275_988d46c40cf1row3_col7,#T_8a9c5657_4bd1_11ec_b275_988d46c40cf1row4_col7,#T_8a9c5657_4bd1_11ec_b275_988d46c40cf1row5_col7,#T_8a9c5657_4bd1_11ec_b275_988d46c40cf1row8_col7,#T_8a9c5657_4bd1_11ec_b275_988d46c40cf1row10_col7,#T_8a9c5657_4bd1_11ec_b275_988d46c40cf1row12_col7,#T_8a9c5657_4bd1_11ec_b275_988d46c40cf1row14_col7,#T_8a9c5657_4bd1_11ec_b275_988d46c40cf1row15_col7,#T_8a9c5657_4bd1_11ec_b275_988d46c40cf1row16_col7{\n",
       "            text-align:  left;\n",
       "            text-align:  left;\n",
       "            background-color:  lightgrey;\n",
       "        }#T_8a9c5657_4bd1_11ec_b275_988d46c40cf1row6_col7,#T_8a9c5657_4bd1_11ec_b275_988d46c40cf1row7_col7,#T_8a9c5657_4bd1_11ec_b275_988d46c40cf1row9_col7,#T_8a9c5657_4bd1_11ec_b275_988d46c40cf1row11_col7,#T_8a9c5657_4bd1_11ec_b275_988d46c40cf1row13_col7{\n",
       "            text-align:  left;\n",
       "            text-align:  left;\n",
       "            background-color:  yellow;\n",
       "            background-color:  lightgrey;\n",
       "        }</style><table id=\"T_8a9c5657_4bd1_11ec_b275_988d46c40cf1\" ><thead>    <tr>        <th class=\"blank level0\" ></th>        <th class=\"col_heading level0 col0\" >Model</th>        <th class=\"col_heading level0 col1\" >MAE</th>        <th class=\"col_heading level0 col2\" >MSE</th>        <th class=\"col_heading level0 col3\" >RMSE</th>        <th class=\"col_heading level0 col4\" >R2</th>        <th class=\"col_heading level0 col5\" >RMSLE</th>        <th class=\"col_heading level0 col6\" >MAPE</th>        <th class=\"col_heading level0 col7\" >TT (Sec)</th>    </tr></thead><tbody>\n",
       "                <tr>\n",
       "                        <th id=\"T_8a9c5657_4bd1_11ec_b275_988d46c40cf1level0_row0\" class=\"row_heading level0 row0\" >et</th>\n",
       "                        <td id=\"T_8a9c5657_4bd1_11ec_b275_988d46c40cf1row0_col0\" class=\"data row0 col0\" >Extra Trees Regressor</td>\n",
       "                        <td id=\"T_8a9c5657_4bd1_11ec_b275_988d46c40cf1row0_col1\" class=\"data row0 col1\" >3.0982</td>\n",
       "                        <td id=\"T_8a9c5657_4bd1_11ec_b275_988d46c40cf1row0_col2\" class=\"data row0 col2\" >262.8423</td>\n",
       "                        <td id=\"T_8a9c5657_4bd1_11ec_b275_988d46c40cf1row0_col3\" class=\"data row0 col3\" >15.4482</td>\n",
       "                        <td id=\"T_8a9c5657_4bd1_11ec_b275_988d46c40cf1row0_col4\" class=\"data row0 col4\" >0.6953</td>\n",
       "                        <td id=\"T_8a9c5657_4bd1_11ec_b275_988d46c40cf1row0_col5\" class=\"data row0 col5\" >0.6478</td>\n",
       "                        <td id=\"T_8a9c5657_4bd1_11ec_b275_988d46c40cf1row0_col6\" class=\"data row0 col6\" >1.1592</td>\n",
       "                        <td id=\"T_8a9c5657_4bd1_11ec_b275_988d46c40cf1row0_col7\" class=\"data row0 col7\" >0.0520</td>\n",
       "            </tr>\n",
       "            <tr>\n",
       "                        <th id=\"T_8a9c5657_4bd1_11ec_b275_988d46c40cf1level0_row1\" class=\"row_heading level0 row1\" >rf</th>\n",
       "                        <td id=\"T_8a9c5657_4bd1_11ec_b275_988d46c40cf1row1_col0\" class=\"data row1 col0\" >Random Forest Regressor</td>\n",
       "                        <td id=\"T_8a9c5657_4bd1_11ec_b275_988d46c40cf1row1_col1\" class=\"data row1 col1\" >3.1199</td>\n",
       "                        <td id=\"T_8a9c5657_4bd1_11ec_b275_988d46c40cf1row1_col2\" class=\"data row1 col2\" >263.7962</td>\n",
       "                        <td id=\"T_8a9c5657_4bd1_11ec_b275_988d46c40cf1row1_col3\" class=\"data row1 col3\" >15.5271</td>\n",
       "                        <td id=\"T_8a9c5657_4bd1_11ec_b275_988d46c40cf1row1_col4\" class=\"data row1 col4\" >0.6931</td>\n",
       "                        <td id=\"T_8a9c5657_4bd1_11ec_b275_988d46c40cf1row1_col5\" class=\"data row1 col5\" >0.6534</td>\n",
       "                        <td id=\"T_8a9c5657_4bd1_11ec_b275_988d46c40cf1row1_col6\" class=\"data row1 col6\" >1.1663</td>\n",
       "                        <td id=\"T_8a9c5657_4bd1_11ec_b275_988d46c40cf1row1_col7\" class=\"data row1 col7\" >0.0680</td>\n",
       "            </tr>\n",
       "            <tr>\n",
       "                        <th id=\"T_8a9c5657_4bd1_11ec_b275_988d46c40cf1level0_row2\" class=\"row_heading level0 row2\" >lightgbm</th>\n",
       "                        <td id=\"T_8a9c5657_4bd1_11ec_b275_988d46c40cf1row2_col0\" class=\"data row2 col0\" >Light Gradient Boosting Machine</td>\n",
       "                        <td id=\"T_8a9c5657_4bd1_11ec_b275_988d46c40cf1row2_col1\" class=\"data row2 col1\" >3.8795</td>\n",
       "                        <td id=\"T_8a9c5657_4bd1_11ec_b275_988d46c40cf1row2_col2\" class=\"data row2 col2\" >269.7929</td>\n",
       "                        <td id=\"T_8a9c5657_4bd1_11ec_b275_988d46c40cf1row2_col3\" class=\"data row2 col3\" >15.6930</td>\n",
       "                        <td id=\"T_8a9c5657_4bd1_11ec_b275_988d46c40cf1row2_col4\" class=\"data row2 col4\" >0.6869</td>\n",
       "                        <td id=\"T_8a9c5657_4bd1_11ec_b275_988d46c40cf1row2_col5\" class=\"data row2 col5\" >0.7706</td>\n",
       "                        <td id=\"T_8a9c5657_4bd1_11ec_b275_988d46c40cf1row2_col6\" class=\"data row2 col6\" >1.5067</td>\n",
       "                        <td id=\"T_8a9c5657_4bd1_11ec_b275_988d46c40cf1row2_col7\" class=\"data row2 col7\" >0.0520</td>\n",
       "            </tr>\n",
       "            <tr>\n",
       "                        <th id=\"T_8a9c5657_4bd1_11ec_b275_988d46c40cf1level0_row3\" class=\"row_heading level0 row3\" >dt</th>\n",
       "                        <td id=\"T_8a9c5657_4bd1_11ec_b275_988d46c40cf1row3_col0\" class=\"data row3 col0\" >Decision Tree Regressor</td>\n",
       "                        <td id=\"T_8a9c5657_4bd1_11ec_b275_988d46c40cf1row3_col1\" class=\"data row3 col1\" >3.1420</td>\n",
       "                        <td id=\"T_8a9c5657_4bd1_11ec_b275_988d46c40cf1row3_col2\" class=\"data row3 col2\" >269.3978</td>\n",
       "                        <td id=\"T_8a9c5657_4bd1_11ec_b275_988d46c40cf1row3_col3\" class=\"data row3 col3\" >15.8492</td>\n",
       "                        <td id=\"T_8a9c5657_4bd1_11ec_b275_988d46c40cf1row3_col4\" class=\"data row3 col4\" >0.6767</td>\n",
       "                        <td id=\"T_8a9c5657_4bd1_11ec_b275_988d46c40cf1row3_col5\" class=\"data row3 col5\" >0.6535</td>\n",
       "                        <td id=\"T_8a9c5657_4bd1_11ec_b275_988d46c40cf1row3_col6\" class=\"data row3 col6\" >1.1882</td>\n",
       "                        <td id=\"T_8a9c5657_4bd1_11ec_b275_988d46c40cf1row3_col7\" class=\"data row3 col7\" >0.0050</td>\n",
       "            </tr>\n",
       "            <tr>\n",
       "                        <th id=\"T_8a9c5657_4bd1_11ec_b275_988d46c40cf1level0_row4\" class=\"row_heading level0 row4\" >knn</th>\n",
       "                        <td id=\"T_8a9c5657_4bd1_11ec_b275_988d46c40cf1row4_col0\" class=\"data row4 col0\" >K Neighbors Regressor</td>\n",
       "                        <td id=\"T_8a9c5657_4bd1_11ec_b275_988d46c40cf1row4_col1\" class=\"data row4 col1\" >3.1341</td>\n",
       "                        <td id=\"T_8a9c5657_4bd1_11ec_b275_988d46c40cf1row4_col2\" class=\"data row4 col2\" >303.6115</td>\n",
       "                        <td id=\"T_8a9c5657_4bd1_11ec_b275_988d46c40cf1row4_col3\" class=\"data row4 col3\" >16.6482</td>\n",
       "                        <td id=\"T_8a9c5657_4bd1_11ec_b275_988d46c40cf1row4_col4\" class=\"data row4 col4\" >0.6461</td>\n",
       "                        <td id=\"T_8a9c5657_4bd1_11ec_b275_988d46c40cf1row4_col5\" class=\"data row4 col5\" >0.6850</td>\n",
       "                        <td id=\"T_8a9c5657_4bd1_11ec_b275_988d46c40cf1row4_col6\" class=\"data row4 col6\" >1.2477</td>\n",
       "                        <td id=\"T_8a9c5657_4bd1_11ec_b275_988d46c40cf1row4_col7\" class=\"data row4 col7\" >0.0070</td>\n",
       "            </tr>\n",
       "            <tr>\n",
       "                        <th id=\"T_8a9c5657_4bd1_11ec_b275_988d46c40cf1level0_row5\" class=\"row_heading level0 row5\" >gbr</th>\n",
       "                        <td id=\"T_8a9c5657_4bd1_11ec_b275_988d46c40cf1row5_col0\" class=\"data row5 col0\" >Gradient Boosting Regressor</td>\n",
       "                        <td id=\"T_8a9c5657_4bd1_11ec_b275_988d46c40cf1row5_col1\" class=\"data row5 col1\" >5.1142</td>\n",
       "                        <td id=\"T_8a9c5657_4bd1_11ec_b275_988d46c40cf1row5_col2\" class=\"data row5 col2\" >302.5385</td>\n",
       "                        <td id=\"T_8a9c5657_4bd1_11ec_b275_988d46c40cf1row5_col3\" class=\"data row5 col3\" >16.7731</td>\n",
       "                        <td id=\"T_8a9c5657_4bd1_11ec_b275_988d46c40cf1row5_col4\" class=\"data row5 col4\" >0.6448</td>\n",
       "                        <td id=\"T_8a9c5657_4bd1_11ec_b275_988d46c40cf1row5_col5\" class=\"data row5 col5\" >0.9498</td>\n",
       "                        <td id=\"T_8a9c5657_4bd1_11ec_b275_988d46c40cf1row5_col6\" class=\"data row5 col6\" >1.8056</td>\n",
       "                        <td id=\"T_8a9c5657_4bd1_11ec_b275_988d46c40cf1row5_col7\" class=\"data row5 col7\" >0.0320</td>\n",
       "            </tr>\n",
       "            <tr>\n",
       "                        <th id=\"T_8a9c5657_4bd1_11ec_b275_988d46c40cf1level0_row6\" class=\"row_heading level0 row6\" >lr</th>\n",
       "                        <td id=\"T_8a9c5657_4bd1_11ec_b275_988d46c40cf1row6_col0\" class=\"data row6 col0\" >Linear Regression</td>\n",
       "                        <td id=\"T_8a9c5657_4bd1_11ec_b275_988d46c40cf1row6_col1\" class=\"data row6 col1\" >16.5569</td>\n",
       "                        <td id=\"T_8a9c5657_4bd1_11ec_b275_988d46c40cf1row6_col2\" class=\"data row6 col2\" >709.2553</td>\n",
       "                        <td id=\"T_8a9c5657_4bd1_11ec_b275_988d46c40cf1row6_col3\" class=\"data row6 col3\" >26.4250</td>\n",
       "                        <td id=\"T_8a9c5657_4bd1_11ec_b275_988d46c40cf1row6_col4\" class=\"data row6 col4\" >0.1211</td>\n",
       "                        <td id=\"T_8a9c5657_4bd1_11ec_b275_988d46c40cf1row6_col5\" class=\"data row6 col5\" >2.0188</td>\n",
       "                        <td id=\"T_8a9c5657_4bd1_11ec_b275_988d46c40cf1row6_col6\" class=\"data row6 col6\" >4.1960</td>\n",
       "                        <td id=\"T_8a9c5657_4bd1_11ec_b275_988d46c40cf1row6_col7\" class=\"data row6 col7\" >0.0040</td>\n",
       "            </tr>\n",
       "            <tr>\n",
       "                        <th id=\"T_8a9c5657_4bd1_11ec_b275_988d46c40cf1level0_row7\" class=\"row_heading level0 row7\" >ridge</th>\n",
       "                        <td id=\"T_8a9c5657_4bd1_11ec_b275_988d46c40cf1row7_col0\" class=\"data row7 col0\" >Ridge Regression</td>\n",
       "                        <td id=\"T_8a9c5657_4bd1_11ec_b275_988d46c40cf1row7_col1\" class=\"data row7 col1\" >16.5569</td>\n",
       "                        <td id=\"T_8a9c5657_4bd1_11ec_b275_988d46c40cf1row7_col2\" class=\"data row7 col2\" >709.2553</td>\n",
       "                        <td id=\"T_8a9c5657_4bd1_11ec_b275_988d46c40cf1row7_col3\" class=\"data row7 col3\" >26.4250</td>\n",
       "                        <td id=\"T_8a9c5657_4bd1_11ec_b275_988d46c40cf1row7_col4\" class=\"data row7 col4\" >0.1211</td>\n",
       "                        <td id=\"T_8a9c5657_4bd1_11ec_b275_988d46c40cf1row7_col5\" class=\"data row7 col5\" >2.0188</td>\n",
       "                        <td id=\"T_8a9c5657_4bd1_11ec_b275_988d46c40cf1row7_col6\" class=\"data row7 col6\" >4.1958</td>\n",
       "                        <td id=\"T_8a9c5657_4bd1_11ec_b275_988d46c40cf1row7_col7\" class=\"data row7 col7\" >0.0040</td>\n",
       "            </tr>\n",
       "            <tr>\n",
       "                        <th id=\"T_8a9c5657_4bd1_11ec_b275_988d46c40cf1level0_row8\" class=\"row_heading level0 row8\" >lar</th>\n",
       "                        <td id=\"T_8a9c5657_4bd1_11ec_b275_988d46c40cf1row8_col0\" class=\"data row8 col0\" >Least Angle Regression</td>\n",
       "                        <td id=\"T_8a9c5657_4bd1_11ec_b275_988d46c40cf1row8_col1\" class=\"data row8 col1\" >16.5569</td>\n",
       "                        <td id=\"T_8a9c5657_4bd1_11ec_b275_988d46c40cf1row8_col2\" class=\"data row8 col2\" >709.2554</td>\n",
       "                        <td id=\"T_8a9c5657_4bd1_11ec_b275_988d46c40cf1row8_col3\" class=\"data row8 col3\" >26.4250</td>\n",
       "                        <td id=\"T_8a9c5657_4bd1_11ec_b275_988d46c40cf1row8_col4\" class=\"data row8 col4\" >0.1211</td>\n",
       "                        <td id=\"T_8a9c5657_4bd1_11ec_b275_988d46c40cf1row8_col5\" class=\"data row8 col5\" >2.0187</td>\n",
       "                        <td id=\"T_8a9c5657_4bd1_11ec_b275_988d46c40cf1row8_col6\" class=\"data row8 col6\" >4.1960</td>\n",
       "                        <td id=\"T_8a9c5657_4bd1_11ec_b275_988d46c40cf1row8_col7\" class=\"data row8 col7\" >0.0050</td>\n",
       "            </tr>\n",
       "            <tr>\n",
       "                        <th id=\"T_8a9c5657_4bd1_11ec_b275_988d46c40cf1level0_row9\" class=\"row_heading level0 row9\" >br</th>\n",
       "                        <td id=\"T_8a9c5657_4bd1_11ec_b275_988d46c40cf1row9_col0\" class=\"data row9 col0\" >Bayesian Ridge</td>\n",
       "                        <td id=\"T_8a9c5657_4bd1_11ec_b275_988d46c40cf1row9_col1\" class=\"data row9 col1\" >16.5586</td>\n",
       "                        <td id=\"T_8a9c5657_4bd1_11ec_b275_988d46c40cf1row9_col2\" class=\"data row9 col2\" >709.2574</td>\n",
       "                        <td id=\"T_8a9c5657_4bd1_11ec_b275_988d46c40cf1row9_col3\" class=\"data row9 col3\" >26.4250</td>\n",
       "                        <td id=\"T_8a9c5657_4bd1_11ec_b275_988d46c40cf1row9_col4\" class=\"data row9 col4\" >0.1211</td>\n",
       "                        <td id=\"T_8a9c5657_4bd1_11ec_b275_988d46c40cf1row9_col5\" class=\"data row9 col5\" >2.0191</td>\n",
       "                        <td id=\"T_8a9c5657_4bd1_11ec_b275_988d46c40cf1row9_col6\" class=\"data row9 col6\" >4.1884</td>\n",
       "                        <td id=\"T_8a9c5657_4bd1_11ec_b275_988d46c40cf1row9_col7\" class=\"data row9 col7\" >0.0040</td>\n",
       "            </tr>\n",
       "            <tr>\n",
       "                        <th id=\"T_8a9c5657_4bd1_11ec_b275_988d46c40cf1level0_row10\" class=\"row_heading level0 row10\" >lasso</th>\n",
       "                        <td id=\"T_8a9c5657_4bd1_11ec_b275_988d46c40cf1row10_col0\" class=\"data row10 col0\" >Lasso Regression</td>\n",
       "                        <td id=\"T_8a9c5657_4bd1_11ec_b275_988d46c40cf1row10_col1\" class=\"data row10 col1\" >16.6244</td>\n",
       "                        <td id=\"T_8a9c5657_4bd1_11ec_b275_988d46c40cf1row10_col2\" class=\"data row10 col2\" >711.2706</td>\n",
       "                        <td id=\"T_8a9c5657_4bd1_11ec_b275_988d46c40cf1row10_col3\" class=\"data row10 col3\" >26.4652</td>\n",
       "                        <td id=\"T_8a9c5657_4bd1_11ec_b275_988d46c40cf1row10_col4\" class=\"data row10 col4\" >0.1184</td>\n",
       "                        <td id=\"T_8a9c5657_4bd1_11ec_b275_988d46c40cf1row10_col5\" class=\"data row10 col5\" >2.0310</td>\n",
       "                        <td id=\"T_8a9c5657_4bd1_11ec_b275_988d46c40cf1row10_col6\" class=\"data row10 col6\" >3.8612</td>\n",
       "                        <td id=\"T_8a9c5657_4bd1_11ec_b275_988d46c40cf1row10_col7\" class=\"data row10 col7\" >0.0050</td>\n",
       "            </tr>\n",
       "            <tr>\n",
       "                        <th id=\"T_8a9c5657_4bd1_11ec_b275_988d46c40cf1level0_row11\" class=\"row_heading level0 row11\" >en</th>\n",
       "                        <td id=\"T_8a9c5657_4bd1_11ec_b275_988d46c40cf1row11_col0\" class=\"data row11 col0\" >Elastic Net</td>\n",
       "                        <td id=\"T_8a9c5657_4bd1_11ec_b275_988d46c40cf1row11_col1\" class=\"data row11 col1\" >16.7992</td>\n",
       "                        <td id=\"T_8a9c5657_4bd1_11ec_b275_988d46c40cf1row11_col2\" class=\"data row11 col2\" >717.3718</td>\n",
       "                        <td id=\"T_8a9c5657_4bd1_11ec_b275_988d46c40cf1row11_col3\" class=\"data row11 col3\" >26.5834</td>\n",
       "                        <td id=\"T_8a9c5657_4bd1_11ec_b275_988d46c40cf1row11_col4\" class=\"data row11 col4\" >0.1103</td>\n",
       "                        <td id=\"T_8a9c5657_4bd1_11ec_b275_988d46c40cf1row11_col5\" class=\"data row11 col5\" >2.0493</td>\n",
       "                        <td id=\"T_8a9c5657_4bd1_11ec_b275_988d46c40cf1row11_col6\" class=\"data row11 col6\" >3.5695</td>\n",
       "                        <td id=\"T_8a9c5657_4bd1_11ec_b275_988d46c40cf1row11_col7\" class=\"data row11 col7\" >0.0040</td>\n",
       "            </tr>\n",
       "            <tr>\n",
       "                        <th id=\"T_8a9c5657_4bd1_11ec_b275_988d46c40cf1level0_row12\" class=\"row_heading level0 row12\" >omp</th>\n",
       "                        <td id=\"T_8a9c5657_4bd1_11ec_b275_988d46c40cf1row12_col0\" class=\"data row12 col0\" >Orthogonal Matching Pursuit</td>\n",
       "                        <td id=\"T_8a9c5657_4bd1_11ec_b275_988d46c40cf1row12_col1\" class=\"data row12 col1\" >17.5699</td>\n",
       "                        <td id=\"T_8a9c5657_4bd1_11ec_b275_988d46c40cf1row12_col2\" class=\"data row12 col2\" >746.7536</td>\n",
       "                        <td id=\"T_8a9c5657_4bd1_11ec_b275_988d46c40cf1row12_col3\" class=\"data row12 col3\" >27.1423</td>\n",
       "                        <td id=\"T_8a9c5657_4bd1_11ec_b275_988d46c40cf1row12_col4\" class=\"data row12 col4\" >0.0716</td>\n",
       "                        <td id=\"T_8a9c5657_4bd1_11ec_b275_988d46c40cf1row12_col5\" class=\"data row12 col5\" >2.0132</td>\n",
       "                        <td id=\"T_8a9c5657_4bd1_11ec_b275_988d46c40cf1row12_col6\" class=\"data row12 col6\" >3.7174</td>\n",
       "                        <td id=\"T_8a9c5657_4bd1_11ec_b275_988d46c40cf1row12_col7\" class=\"data row12 col7\" >0.0060</td>\n",
       "            </tr>\n",
       "            <tr>\n",
       "                        <th id=\"T_8a9c5657_4bd1_11ec_b275_988d46c40cf1level0_row13\" class=\"row_heading level0 row13\" >llar</th>\n",
       "                        <td id=\"T_8a9c5657_4bd1_11ec_b275_988d46c40cf1row13_col0\" class=\"data row13 col0\" >Lasso Least Angle Regression</td>\n",
       "                        <td id=\"T_8a9c5657_4bd1_11ec_b275_988d46c40cf1row13_col1\" class=\"data row13 col1\" >19.8837</td>\n",
       "                        <td id=\"T_8a9c5657_4bd1_11ec_b275_988d46c40cf1row13_col2\" class=\"data row13 col2\" >802.0239</td>\n",
       "                        <td id=\"T_8a9c5657_4bd1_11ec_b275_988d46c40cf1row13_col3\" class=\"data row13 col3\" >28.1617</td>\n",
       "                        <td id=\"T_8a9c5657_4bd1_11ec_b275_988d46c40cf1row13_col4\" class=\"data row13 col4\" >-0.0014</td>\n",
       "                        <td id=\"T_8a9c5657_4bd1_11ec_b275_988d46c40cf1row13_col5\" class=\"data row13 col5\" >2.2139</td>\n",
       "                        <td id=\"T_8a9c5657_4bd1_11ec_b275_988d46c40cf1row13_col6\" class=\"data row13 col6\" >3.7240</td>\n",
       "                        <td id=\"T_8a9c5657_4bd1_11ec_b275_988d46c40cf1row13_col7\" class=\"data row13 col7\" >0.0040</td>\n",
       "            </tr>\n",
       "            <tr>\n",
       "                        <th id=\"T_8a9c5657_4bd1_11ec_b275_988d46c40cf1level0_row14\" class=\"row_heading level0 row14\" >huber</th>\n",
       "                        <td id=\"T_8a9c5657_4bd1_11ec_b275_988d46c40cf1row14_col0\" class=\"data row14 col0\" >Huber Regressor</td>\n",
       "                        <td id=\"T_8a9c5657_4bd1_11ec_b275_988d46c40cf1row14_col1\" class=\"data row14 col1\" >14.2479</td>\n",
       "                        <td id=\"T_8a9c5657_4bd1_11ec_b275_988d46c40cf1row14_col2\" class=\"data row14 col2\" >816.3606</td>\n",
       "                        <td id=\"T_8a9c5657_4bd1_11ec_b275_988d46c40cf1row14_col3\" class=\"data row14 col3\" >28.3860</td>\n",
       "                        <td id=\"T_8a9c5657_4bd1_11ec_b275_988d46c40cf1row14_col4\" class=\"data row14 col4\" >-0.0162</td>\n",
       "                        <td id=\"T_8a9c5657_4bd1_11ec_b275_988d46c40cf1row14_col5\" class=\"data row14 col5\" >1.4700</td>\n",
       "                        <td id=\"T_8a9c5657_4bd1_11ec_b275_988d46c40cf1row14_col6\" class=\"data row14 col6\" >2.0235</td>\n",
       "                        <td id=\"T_8a9c5657_4bd1_11ec_b275_988d46c40cf1row14_col7\" class=\"data row14 col7\" >0.0100</td>\n",
       "            </tr>\n",
       "            <tr>\n",
       "                        <th id=\"T_8a9c5657_4bd1_11ec_b275_988d46c40cf1level0_row15\" class=\"row_heading level0 row15\" >ada</th>\n",
       "                        <td id=\"T_8a9c5657_4bd1_11ec_b275_988d46c40cf1row15_col0\" class=\"data row15 col0\" >AdaBoost Regressor</td>\n",
       "                        <td id=\"T_8a9c5657_4bd1_11ec_b275_988d46c40cf1row15_col1\" class=\"data row15 col1\" >11.8962</td>\n",
       "                        <td id=\"T_8a9c5657_4bd1_11ec_b275_988d46c40cf1row15_col2\" class=\"data row15 col2\" >927.8852</td>\n",
       "                        <td id=\"T_8a9c5657_4bd1_11ec_b275_988d46c40cf1row15_col3\" class=\"data row15 col3\" >30.0759</td>\n",
       "                        <td id=\"T_8a9c5657_4bd1_11ec_b275_988d46c40cf1row15_col4\" class=\"data row15 col4\" >-0.1636</td>\n",
       "                        <td id=\"T_8a9c5657_4bd1_11ec_b275_988d46c40cf1row15_col5\" class=\"data row15 col5\" >1.4706</td>\n",
       "                        <td id=\"T_8a9c5657_4bd1_11ec_b275_988d46c40cf1row15_col6\" class=\"data row15 col6\" >3.2928</td>\n",
       "                        <td id=\"T_8a9c5657_4bd1_11ec_b275_988d46c40cf1row15_col7\" class=\"data row15 col7\" >0.0080</td>\n",
       "            </tr>\n",
       "            <tr>\n",
       "                        <th id=\"T_8a9c5657_4bd1_11ec_b275_988d46c40cf1level0_row16\" class=\"row_heading level0 row16\" >par</th>\n",
       "                        <td id=\"T_8a9c5657_4bd1_11ec_b275_988d46c40cf1row16_col0\" class=\"data row16 col0\" >Passive Aggressive Regressor</td>\n",
       "                        <td id=\"T_8a9c5657_4bd1_11ec_b275_988d46c40cf1row16_col1\" class=\"data row16 col1\" >82.7870</td>\n",
       "                        <td id=\"T_8a9c5657_4bd1_11ec_b275_988d46c40cf1row16_col2\" class=\"data row16 col2\" >27179.0377</td>\n",
       "                        <td id=\"T_8a9c5657_4bd1_11ec_b275_988d46c40cf1row16_col3\" class=\"data row16 col3\" >100.4947</td>\n",
       "                        <td id=\"T_8a9c5657_4bd1_11ec_b275_988d46c40cf1row16_col4\" class=\"data row16 col4\" >-25.6298</td>\n",
       "                        <td id=\"T_8a9c5657_4bd1_11ec_b275_988d46c40cf1row16_col5\" class=\"data row16 col5\" >2.3726</td>\n",
       "                        <td id=\"T_8a9c5657_4bd1_11ec_b275_988d46c40cf1row16_col6\" class=\"data row16 col6\" >19.5920</td>\n",
       "                        <td id=\"T_8a9c5657_4bd1_11ec_b275_988d46c40cf1row16_col7\" class=\"data row16 col7\" >0.0050</td>\n",
       "            </tr>\n",
       "    </tbody></table>"
      ],
      "text/plain": [
       "<pandas.io.formats.style.Styler at 0x158add85490>"
      ]
     },
     "metadata": {},
     "output_type": "display_data"
    },
    {
     "data": {
      "text/plain": [
       "ExtraTreesRegressor(bootstrap=False, ccp_alpha=0.0, criterion='mse',\n",
       "                    max_depth=None, max_features='auto', max_leaf_nodes=None,\n",
       "                    max_samples=None, min_impurity_decrease=0.0,\n",
       "                    min_impurity_split=None, min_samples_leaf=1,\n",
       "                    min_samples_split=2, min_weight_fraction_leaf=0.0,\n",
       "                    n_estimators=100, n_jobs=-1, oob_score=False,\n",
       "                    random_state=2852, verbose=0, warm_start=False)"
      ]
     },
     "execution_count": 72,
     "metadata": {},
     "output_type": "execute_result"
    }
   ],
   "source": [
    "compare_models(fold=10,sort='RMSE')"
   ]
  },
  {
   "cell_type": "code",
   "execution_count": 73,
   "metadata": {},
   "outputs": [
    {
     "data": {
      "text/html": [
       "<style  type=\"text/css\" >\n",
       "#T_9a053282_4bd1_11ec_8034_988d46c40cf1row10_col0,#T_9a053282_4bd1_11ec_8034_988d46c40cf1row10_col1,#T_9a053282_4bd1_11ec_8034_988d46c40cf1row10_col2,#T_9a053282_4bd1_11ec_8034_988d46c40cf1row10_col3,#T_9a053282_4bd1_11ec_8034_988d46c40cf1row10_col4,#T_9a053282_4bd1_11ec_8034_988d46c40cf1row10_col5{\n",
       "            background:  yellow;\n",
       "        }</style><table id=\"T_9a053282_4bd1_11ec_8034_988d46c40cf1\" ><thead>    <tr>        <th class=\"blank level0\" ></th>        <th class=\"col_heading level0 col0\" >MAE</th>        <th class=\"col_heading level0 col1\" >MSE</th>        <th class=\"col_heading level0 col2\" >RMSE</th>        <th class=\"col_heading level0 col3\" >R2</th>        <th class=\"col_heading level0 col4\" >RMSLE</th>        <th class=\"col_heading level0 col5\" >MAPE</th>    </tr></thead><tbody>\n",
       "                <tr>\n",
       "                        <th id=\"T_9a053282_4bd1_11ec_8034_988d46c40cf1level0_row0\" class=\"row_heading level0 row0\" >0</th>\n",
       "                        <td id=\"T_9a053282_4bd1_11ec_8034_988d46c40cf1row0_col0\" class=\"data row0 col0\" >3.1149</td>\n",
       "                        <td id=\"T_9a053282_4bd1_11ec_8034_988d46c40cf1row0_col1\" class=\"data row0 col1\" >170.2012</td>\n",
       "                        <td id=\"T_9a053282_4bd1_11ec_8034_988d46c40cf1row0_col2\" class=\"data row0 col2\" >13.0461</td>\n",
       "                        <td id=\"T_9a053282_4bd1_11ec_8034_988d46c40cf1row0_col3\" class=\"data row0 col3\" >0.7194</td>\n",
       "                        <td id=\"T_9a053282_4bd1_11ec_8034_988d46c40cf1row0_col4\" class=\"data row0 col4\" >0.7348</td>\n",
       "                        <td id=\"T_9a053282_4bd1_11ec_8034_988d46c40cf1row0_col5\" class=\"data row0 col5\" >1.4078</td>\n",
       "            </tr>\n",
       "            <tr>\n",
       "                        <th id=\"T_9a053282_4bd1_11ec_8034_988d46c40cf1level0_row1\" class=\"row_heading level0 row1\" >1</th>\n",
       "                        <td id=\"T_9a053282_4bd1_11ec_8034_988d46c40cf1row1_col0\" class=\"data row1 col0\" >2.7005</td>\n",
       "                        <td id=\"T_9a053282_4bd1_11ec_8034_988d46c40cf1row1_col1\" class=\"data row1 col1\" >141.0855</td>\n",
       "                        <td id=\"T_9a053282_4bd1_11ec_8034_988d46c40cf1row1_col2\" class=\"data row1 col2\" >11.8779</td>\n",
       "                        <td id=\"T_9a053282_4bd1_11ec_8034_988d46c40cf1row1_col3\" class=\"data row1 col3\" >0.8019</td>\n",
       "                        <td id=\"T_9a053282_4bd1_11ec_8034_988d46c40cf1row1_col4\" class=\"data row1 col4\" >0.6466</td>\n",
       "                        <td id=\"T_9a053282_4bd1_11ec_8034_988d46c40cf1row1_col5\" class=\"data row1 col5\" >0.8543</td>\n",
       "            </tr>\n",
       "            <tr>\n",
       "                        <th id=\"T_9a053282_4bd1_11ec_8034_988d46c40cf1level0_row2\" class=\"row_heading level0 row2\" >2</th>\n",
       "                        <td id=\"T_9a053282_4bd1_11ec_8034_988d46c40cf1row2_col0\" class=\"data row2 col0\" >3.1878</td>\n",
       "                        <td id=\"T_9a053282_4bd1_11ec_8034_988d46c40cf1row2_col1\" class=\"data row2 col1\" >333.9244</td>\n",
       "                        <td id=\"T_9a053282_4bd1_11ec_8034_988d46c40cf1row2_col2\" class=\"data row2 col2\" >18.2736</td>\n",
       "                        <td id=\"T_9a053282_4bd1_11ec_8034_988d46c40cf1row2_col3\" class=\"data row2 col3\" >0.6038</td>\n",
       "                        <td id=\"T_9a053282_4bd1_11ec_8034_988d46c40cf1row2_col4\" class=\"data row2 col4\" >0.6067</td>\n",
       "                        <td id=\"T_9a053282_4bd1_11ec_8034_988d46c40cf1row2_col5\" class=\"data row2 col5\" >0.7606</td>\n",
       "            </tr>\n",
       "            <tr>\n",
       "                        <th id=\"T_9a053282_4bd1_11ec_8034_988d46c40cf1level0_row3\" class=\"row_heading level0 row3\" >3</th>\n",
       "                        <td id=\"T_9a053282_4bd1_11ec_8034_988d46c40cf1row3_col0\" class=\"data row3 col0\" >2.7294</td>\n",
       "                        <td id=\"T_9a053282_4bd1_11ec_8034_988d46c40cf1row3_col1\" class=\"data row3 col1\" >115.5170</td>\n",
       "                        <td id=\"T_9a053282_4bd1_11ec_8034_988d46c40cf1row3_col2\" class=\"data row3 col2\" >10.7479</td>\n",
       "                        <td id=\"T_9a053282_4bd1_11ec_8034_988d46c40cf1row3_col3\" class=\"data row3 col3\" >0.8407</td>\n",
       "                        <td id=\"T_9a053282_4bd1_11ec_8034_988d46c40cf1row3_col4\" class=\"data row3 col4\" >0.6677</td>\n",
       "                        <td id=\"T_9a053282_4bd1_11ec_8034_988d46c40cf1row3_col5\" class=\"data row3 col5\" >1.0402</td>\n",
       "            </tr>\n",
       "            <tr>\n",
       "                        <th id=\"T_9a053282_4bd1_11ec_8034_988d46c40cf1level0_row4\" class=\"row_heading level0 row4\" >4</th>\n",
       "                        <td id=\"T_9a053282_4bd1_11ec_8034_988d46c40cf1row4_col0\" class=\"data row4 col0\" >3.4784</td>\n",
       "                        <td id=\"T_9a053282_4bd1_11ec_8034_988d46c40cf1row4_col1\" class=\"data row4 col1\" >378.5939</td>\n",
       "                        <td id=\"T_9a053282_4bd1_11ec_8034_988d46c40cf1row4_col2\" class=\"data row4 col2\" >19.4575</td>\n",
       "                        <td id=\"T_9a053282_4bd1_11ec_8034_988d46c40cf1row4_col3\" class=\"data row4 col3\" >0.5983</td>\n",
       "                        <td id=\"T_9a053282_4bd1_11ec_8034_988d46c40cf1row4_col4\" class=\"data row4 col4\" >0.6972</td>\n",
       "                        <td id=\"T_9a053282_4bd1_11ec_8034_988d46c40cf1row4_col5\" class=\"data row4 col5\" >1.4949</td>\n",
       "            </tr>\n",
       "            <tr>\n",
       "                        <th id=\"T_9a053282_4bd1_11ec_8034_988d46c40cf1level0_row5\" class=\"row_heading level0 row5\" >5</th>\n",
       "                        <td id=\"T_9a053282_4bd1_11ec_8034_988d46c40cf1row5_col0\" class=\"data row5 col0\" >3.2176</td>\n",
       "                        <td id=\"T_9a053282_4bd1_11ec_8034_988d46c40cf1row5_col1\" class=\"data row5 col1\" >378.1350</td>\n",
       "                        <td id=\"T_9a053282_4bd1_11ec_8034_988d46c40cf1row5_col2\" class=\"data row5 col2\" >19.4457</td>\n",
       "                        <td id=\"T_9a053282_4bd1_11ec_8034_988d46c40cf1row5_col3\" class=\"data row5 col3\" >0.5864</td>\n",
       "                        <td id=\"T_9a053282_4bd1_11ec_8034_988d46c40cf1row5_col4\" class=\"data row5 col4\" >0.6231</td>\n",
       "                        <td id=\"T_9a053282_4bd1_11ec_8034_988d46c40cf1row5_col5\" class=\"data row5 col5\" >0.7851</td>\n",
       "            </tr>\n",
       "            <tr>\n",
       "                        <th id=\"T_9a053282_4bd1_11ec_8034_988d46c40cf1level0_row6\" class=\"row_heading level0 row6\" >6</th>\n",
       "                        <td id=\"T_9a053282_4bd1_11ec_8034_988d46c40cf1row6_col0\" class=\"data row6 col0\" >4.1134</td>\n",
       "                        <td id=\"T_9a053282_4bd1_11ec_8034_988d46c40cf1row6_col1\" class=\"data row6 col1\" >583.9911</td>\n",
       "                        <td id=\"T_9a053282_4bd1_11ec_8034_988d46c40cf1row6_col2\" class=\"data row6 col2\" >24.1659</td>\n",
       "                        <td id=\"T_9a053282_4bd1_11ec_8034_988d46c40cf1row6_col3\" class=\"data row6 col3\" >0.5105</td>\n",
       "                        <td id=\"T_9a053282_4bd1_11ec_8034_988d46c40cf1row6_col4\" class=\"data row6 col4\" >0.6674</td>\n",
       "                        <td id=\"T_9a053282_4bd1_11ec_8034_988d46c40cf1row6_col5\" class=\"data row6 col5\" >1.1564</td>\n",
       "            </tr>\n",
       "            <tr>\n",
       "                        <th id=\"T_9a053282_4bd1_11ec_8034_988d46c40cf1level0_row7\" class=\"row_heading level0 row7\" >7</th>\n",
       "                        <td id=\"T_9a053282_4bd1_11ec_8034_988d46c40cf1row7_col0\" class=\"data row7 col0\" >2.4712</td>\n",
       "                        <td id=\"T_9a053282_4bd1_11ec_8034_988d46c40cf1row7_col1\" class=\"data row7 col1\" >82.4815</td>\n",
       "                        <td id=\"T_9a053282_4bd1_11ec_8034_988d46c40cf1row7_col2\" class=\"data row7 col2\" >9.0819</td>\n",
       "                        <td id=\"T_9a053282_4bd1_11ec_8034_988d46c40cf1row7_col3\" class=\"data row7 col3\" >0.8594</td>\n",
       "                        <td id=\"T_9a053282_4bd1_11ec_8034_988d46c40cf1row7_col4\" class=\"data row7 col4\" >0.5914</td>\n",
       "                        <td id=\"T_9a053282_4bd1_11ec_8034_988d46c40cf1row7_col5\" class=\"data row7 col5\" >1.1957</td>\n",
       "            </tr>\n",
       "            <tr>\n",
       "                        <th id=\"T_9a053282_4bd1_11ec_8034_988d46c40cf1level0_row8\" class=\"row_heading level0 row8\" >8</th>\n",
       "                        <td id=\"T_9a053282_4bd1_11ec_8034_988d46c40cf1row8_col0\" class=\"data row8 col0\" >2.6782</td>\n",
       "                        <td id=\"T_9a053282_4bd1_11ec_8034_988d46c40cf1row8_col1\" class=\"data row8 col1\" >92.7558</td>\n",
       "                        <td id=\"T_9a053282_4bd1_11ec_8034_988d46c40cf1row8_col2\" class=\"data row8 col2\" >9.6310</td>\n",
       "                        <td id=\"T_9a053282_4bd1_11ec_8034_988d46c40cf1row8_col3\" class=\"data row8 col3\" >0.8607</td>\n",
       "                        <td id=\"T_9a053282_4bd1_11ec_8034_988d46c40cf1row8_col4\" class=\"data row8 col4\" >0.5635</td>\n",
       "                        <td id=\"T_9a053282_4bd1_11ec_8034_988d46c40cf1row8_col5\" class=\"data row8 col5\" >0.5956</td>\n",
       "            </tr>\n",
       "            <tr>\n",
       "                        <th id=\"T_9a053282_4bd1_11ec_8034_988d46c40cf1level0_row9\" class=\"row_heading level0 row9\" >9</th>\n",
       "                        <td id=\"T_9a053282_4bd1_11ec_8034_988d46c40cf1row9_col0\" class=\"data row9 col0\" >3.2904</td>\n",
       "                        <td id=\"T_9a053282_4bd1_11ec_8034_988d46c40cf1row9_col1\" class=\"data row9 col1\" >351.7374</td>\n",
       "                        <td id=\"T_9a053282_4bd1_11ec_8034_988d46c40cf1row9_col2\" class=\"data row9 col2\" >18.7547</td>\n",
       "                        <td id=\"T_9a053282_4bd1_11ec_8034_988d46c40cf1row9_col3\" class=\"data row9 col3\" >0.5717</td>\n",
       "                        <td id=\"T_9a053282_4bd1_11ec_8034_988d46c40cf1row9_col4\" class=\"data row9 col4\" >0.6792</td>\n",
       "                        <td id=\"T_9a053282_4bd1_11ec_8034_988d46c40cf1row9_col5\" class=\"data row9 col5\" >2.3013</td>\n",
       "            </tr>\n",
       "            <tr>\n",
       "                        <th id=\"T_9a053282_4bd1_11ec_8034_988d46c40cf1level0_row10\" class=\"row_heading level0 row10\" >Mean</th>\n",
       "                        <td id=\"T_9a053282_4bd1_11ec_8034_988d46c40cf1row10_col0\" class=\"data row10 col0\" >3.0982</td>\n",
       "                        <td id=\"T_9a053282_4bd1_11ec_8034_988d46c40cf1row10_col1\" class=\"data row10 col1\" >262.8423</td>\n",
       "                        <td id=\"T_9a053282_4bd1_11ec_8034_988d46c40cf1row10_col2\" class=\"data row10 col2\" >15.4482</td>\n",
       "                        <td id=\"T_9a053282_4bd1_11ec_8034_988d46c40cf1row10_col3\" class=\"data row10 col3\" >0.6953</td>\n",
       "                        <td id=\"T_9a053282_4bd1_11ec_8034_988d46c40cf1row10_col4\" class=\"data row10 col4\" >0.6478</td>\n",
       "                        <td id=\"T_9a053282_4bd1_11ec_8034_988d46c40cf1row10_col5\" class=\"data row10 col5\" >1.1592</td>\n",
       "            </tr>\n",
       "            <tr>\n",
       "                        <th id=\"T_9a053282_4bd1_11ec_8034_988d46c40cf1level0_row11\" class=\"row_heading level0 row11\" >SD</th>\n",
       "                        <td id=\"T_9a053282_4bd1_11ec_8034_988d46c40cf1row11_col0\" class=\"data row11 col0\" >0.4581</td>\n",
       "                        <td id=\"T_9a053282_4bd1_11ec_8034_988d46c40cf1row11_col1\" class=\"data row11 col1\" >157.9094</td>\n",
       "                        <td id=\"T_9a053282_4bd1_11ec_8034_988d46c40cf1row11_col2\" class=\"data row11 col2\" >4.9188</td>\n",
       "                        <td id=\"T_9a053282_4bd1_11ec_8034_988d46c40cf1row11_col3\" class=\"data row11 col3\" >0.1290</td>\n",
       "                        <td id=\"T_9a053282_4bd1_11ec_8034_988d46c40cf1row11_col4\" class=\"data row11 col4\" >0.0494</td>\n",
       "                        <td id=\"T_9a053282_4bd1_11ec_8034_988d46c40cf1row11_col5\" class=\"data row11 col5\" >0.4695</td>\n",
       "            </tr>\n",
       "    </tbody></table>"
      ],
      "text/plain": [
       "<pandas.io.formats.style.Styler at 0x158a424a100>"
      ]
     },
     "metadata": {},
     "output_type": "display_data"
    }
   ],
   "source": [
    "#Elección de modelo\n",
    "final_model=create_model('et')"
   ]
  },
  {
   "cell_type": "code",
   "execution_count": 74,
   "metadata": {},
   "outputs": [
    {
     "data": {
      "image/png": "[encoded data removed]",
      "text/plain": [
       "<Figure size 576x396 with 1 Axes>"
      ]
     },
     "metadata": {},
     "output_type": "display_data"
    }
   ],
   "source": [
    "plot_model(final_model,plot='error')"
   ]
  },
  {
   "cell_type": "code",
   "execution_count": 77,
   "metadata": {},
   "outputs": [
    {
     "data": {
      "text/html": [
       "<div>\n",
       "<style scoped>\n",
       "    .dataframe tbody tr th:only-of-type {\n",
       "        vertical-align: middle;\n",
       "    }\n",
       "\n",
       "    .dataframe tbody tr th {\n",
       "        vertical-align: top;\n",
       "    }\n",
       "\n",
       "    .dataframe thead th {\n",
       "        text-align: right;\n",
       "    }\n",
       "</style>\n",
       "<table border=\"1\" class=\"dataframe\">\n",
       "  <thead>\n",
       "    <tr style=\"text-align: right;\">\n",
       "      <th></th>\n",
       "      <th>dias para aprobación</th>\n",
       "      <th>Label</th>\n",
       "    </tr>\n",
       "  </thead>\n",
       "  <tbody>\n",
       "    <tr>\n",
       "      <th>21672</th>\n",
       "      <td>0</td>\n",
       "      <td>0.000000</td>\n",
       "    </tr>\n",
       "    <tr>\n",
       "      <th>13845</th>\n",
       "      <td>3</td>\n",
       "      <td>3.000000</td>\n",
       "    </tr>\n",
       "    <tr>\n",
       "      <th>19950</th>\n",
       "      <td>0</td>\n",
       "      <td>0.000000</td>\n",
       "    </tr>\n",
       "    <tr>\n",
       "      <th>2432</th>\n",
       "      <td>0</td>\n",
       "      <td>0.000000</td>\n",
       "    </tr>\n",
       "    <tr>\n",
       "      <th>18848</th>\n",
       "      <td>0</td>\n",
       "      <td>0.000000</td>\n",
       "    </tr>\n",
       "    <tr>\n",
       "      <th>3680</th>\n",
       "      <td>0</td>\n",
       "      <td>0.000000</td>\n",
       "    </tr>\n",
       "    <tr>\n",
       "      <th>20175</th>\n",
       "      <td>0</td>\n",
       "      <td>0.000000</td>\n",
       "    </tr>\n",
       "    <tr>\n",
       "      <th>14023</th>\n",
       "      <td>16</td>\n",
       "      <td>16.000000</td>\n",
       "    </tr>\n",
       "    <tr>\n",
       "      <th>8828</th>\n",
       "      <td>0</td>\n",
       "      <td>1.290000</td>\n",
       "    </tr>\n",
       "    <tr>\n",
       "      <th>4254</th>\n",
       "      <td>4</td>\n",
       "      <td>4.000000</td>\n",
       "    </tr>\n",
       "    <tr>\n",
       "      <th>13750</th>\n",
       "      <td>20</td>\n",
       "      <td>20.000000</td>\n",
       "    </tr>\n",
       "    <tr>\n",
       "      <th>829</th>\n",
       "      <td>0</td>\n",
       "      <td>0.000000</td>\n",
       "    </tr>\n",
       "    <tr>\n",
       "      <th>9257</th>\n",
       "      <td>0</td>\n",
       "      <td>0.000000</td>\n",
       "    </tr>\n",
       "    <tr>\n",
       "      <th>10583</th>\n",
       "      <td>0</td>\n",
       "      <td>0.000000</td>\n",
       "    </tr>\n",
       "    <tr>\n",
       "      <th>1166</th>\n",
       "      <td>0</td>\n",
       "      <td>0.000000</td>\n",
       "    </tr>\n",
       "    <tr>\n",
       "      <th>10645</th>\n",
       "      <td>0</td>\n",
       "      <td>42.632258</td>\n",
       "    </tr>\n",
       "    <tr>\n",
       "      <th>11610</th>\n",
       "      <td>3</td>\n",
       "      <td>3.000000</td>\n",
       "    </tr>\n",
       "    <tr>\n",
       "      <th>16537</th>\n",
       "      <td>52</td>\n",
       "      <td>52.000000</td>\n",
       "    </tr>\n",
       "    <tr>\n",
       "      <th>21685</th>\n",
       "      <td>0</td>\n",
       "      <td>0.000000</td>\n",
       "    </tr>\n",
       "    <tr>\n",
       "      <th>349</th>\n",
       "      <td>0</td>\n",
       "      <td>0.000000</td>\n",
       "    </tr>\n",
       "  </tbody>\n",
       "</table>\n",
       "</div>"
      ],
      "text/plain": [
       "       dias para aprobación      Label\n",
       "21672                     0   0.000000\n",
       "13845                     3   3.000000\n",
       "19950                     0   0.000000\n",
       "2432                      0   0.000000\n",
       "18848                     0   0.000000\n",
       "3680                      0   0.000000\n",
       "20175                     0   0.000000\n",
       "14023                    16  16.000000\n",
       "8828                      0   1.290000\n",
       "4254                      4   4.000000\n",
       "13750                    20  20.000000\n",
       "829                       0   0.000000\n",
       "9257                      0   0.000000\n",
       "10583                     0   0.000000\n",
       "1166                      0   0.000000\n",
       "10645                     0  42.632258\n",
       "11610                     3   3.000000\n",
       "16537                    52  52.000000\n",
       "21685                     0   0.000000\n",
       "349                       0   0.000000"
      ]
     },
     "execution_count": 77,
     "metadata": {},
     "output_type": "execute_result"
    }
   ],
   "source": [
    "predicciones=predict_model(final_model,data=test,round=2)\n",
    "predicciones[['dias para aprobación','Label']].head(20)"
   ]
  },
  {
   "cell_type": "code",
   "execution_count": 76,
   "metadata": {},
   "outputs": [
    {
     "data": {
      "image/png": "[encoded data removed]",
      "text/plain": [
       "<Figure size 576x194.4 with 2 Axes>"
      ]
     },
     "metadata": {},
     "output_type": "display_data"
    }
   ],
   "source": [
    "interpret_model(final_model)"
   ]
  },
  {
   "cell_type": "code",
   "execution_count": null,
   "metadata": {},
   "outputs": [],
   "source": []
  }
 ],
 "metadata": {
  "kernelspec": {
   "display_name": "Python 3",
   "language": "python",
   "name": "python3"
  },
  "language_info": {
   "codemirror_mode": {
    "name": "ipython",
    "version": 3
   },
   "file_extension": ".py",
   "mimetype": "text/x-python",
   "name": "python",
   "nbconvert_exporter": "python",
   "pygments_lexer": "ipython3",
   "version": "3.8.5"
  }
 },
 "nbformat": 4,
 "nbformat_minor": 4
}
