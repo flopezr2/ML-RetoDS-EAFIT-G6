{
 "cells": [
  {
   "cell_type": "markdown",
   "metadata": {},
   "source": [
    "# Descripción\n",
    "Primera versión del modelo de estimación de fechas de aprobacion sin mucha limpieza de datos"
   ]
  },
  {
   "cell_type": "code",
   "execution_count": 1,
   "metadata": {},
   "outputs": [],
   "source": [
    "import numpy as np\n",
    "import pandas as pd\n",
    "import missingno as msn\n",
    "import matplotlib.pyplot as plt\n",
    "import os\n",
    "import seaborn as sns\n"
   ]
  },
  {
   "cell_type": "code",
   "execution_count": 2,
   "metadata": {},
   "outputs": [],
   "source": [
    "#Direccion del documento\n",
    "#path=os.path.dirname(os.path.realpath('Ordenes%20de%20compra%20PORTAL%201K%20(datos%20completo).xlsx'))\n",
    "#path"
   ]
  },
  {
   "cell_type": "code",
   "execution_count": 3,
   "metadata": {},
   "outputs": [],
   "source": [
    "#Subir la dirección local de donde tengan los datos\n",
    "df=pd.read_excel('C:\\\\Users\\\\Admin\\\\OneDrive\\\\Documentos\\\\DataScience2021-2\\\\Trabajos_propios_felipe\\\\Proyecto_final\\\\Ordenes de compra PORTAL 1K (datos completo).xlsx')"
   ]
  },
  {
   "cell_type": "code",
   "execution_count": 4,
   "metadata": {},
   "outputs": [],
   "source": [
    "#Manejo inicial de base de datos\n",
    "df.drop(labels=['Unnamed: 26', 'Unnamed: 27', 'Unnamed: 28'],axis=1,inplace=True)\n",
    "df.drop_duplicates(inplace=True)\n",
    "\n",
    "#Cambiando formato de variables\n",
    "df['FECHA ORDEN']=pd.to_datetime(df['FECHA ORDEN'],format='%Y-%m-%d',errors = 'coerce')\n",
    "df['FECHA ENTREGA']=pd.to_datetime(df['FECHA ENTREGA'],format='%Y-%m-%d',errors = 'coerce')\n",
    "df['FECHA APROBACION']=pd.to_datetime(df['FECHA APROBACION'],format='%Y-%m-%d',errors = 'coerce')\n",
    "df['FECHA ULTIMO MOVIMIENTO']=pd.to_datetime(df['FECHA ULTIMO MOVIMIENTO'],format='%Y-%m-%d',errors = 'coerce')\n",
    "df['PRECIO UNITARIO']=df['PRECIO UNITARIO'].apply(lambda x:float(x.replace('.','')))\n",
    "df['PRECIO UNITARIO + IVA']=df['PRECIO UNITARIO + IVA'].apply(lambda x:float(x.replace('.','')))\n",
    "df['IVA']=df['IVA'].apply(lambda x:float(x.replace('.','')))\n",
    "df['TOTAL SIN IVA']=df['TOTAL SIN IVA'].apply(lambda x:float(x.replace('.','')))\n",
    "df['TOTAL + IVA']=df['TOTAL + IVA'].apply(lambda x:float(x.replace('.','')))\n",
    "\n",
    "#Eliminamos columnas que no usaremos\n",
    "df.drop(labels=['CANTIDAD RECIBIDA','CENTRO DE COSTOS','PRESUPUESTO'],inplace=True,axis=1)\n",
    "\n"
   ]
  },
  {
   "cell_type": "code",
   "execution_count": 5,
   "metadata": {},
   "outputs": [],
   "source": [
    "#Creacion de nuevos features\n",
    "\n",
    "#Con las fechas de aprobacion\n",
    "df['dia fecha aprobacion']=df['FECHA APROBACION'].dt.dayofweek #0 lunes, 6 domingo\n",
    "df['mes fecha aprobacion']=df['FECHA APROBACION'].dt.month #Meses de aprobación \n",
    "df['semana del año aprobacion']=df['FECHA APROBACION'].dt.isocalendar().week\n",
    "\n",
    "#Con las fechas de orden\n",
    "df['dia fecha orden']=df['FECHA ORDEN'].dt.dayofweek #0 lunes, 6 domingo\n",
    "df['mes fecha orden']=df['FECHA ORDEN'].dt.month #Meses de ordbación \n",
    "df['semana del año orden']=df['FECHA ORDEN'].dt.isocalendar().week\n",
    "\n",
    "#Variable objetivo\n",
    "df['dias para aprobación']=df['FECHA APROBACION']-df['FECHA ORDEN']\n",
    "df['dias para aprobación']=(df['FECHA APROBACION']-df['FECHA ORDEN']).dt.days"
   ]
  },
  {
   "cell_type": "code",
   "execution_count": 6,
   "metadata": {},
   "outputs": [],
   "source": [
    "#df.dropna(inplace=True)"
   ]
  },
  {
   "cell_type": "code",
   "execution_count": 7,
   "metadata": {},
   "outputs": [],
   "source": [
    "#Los sias de aprobación superior a 7 dias los organizo para que sean 7\n",
    "df['dias para aprobación']=np.where(df['dias para aprobación']>df['dias para aprobación'].quantile(0.75),\n",
    "                                    df['dias para aprobación'].quantile(0.75),df['dias para aprobación'])"
   ]
  },
  {
   "cell_type": "code",
   "execution_count": 8,
   "metadata": {},
   "outputs": [
    {
     "data": {
      "text/plain": [
       "count    21259.000000\n",
       "mean         2.243662\n",
       "std          2.991787\n",
       "min          0.000000\n",
       "25%          0.000000\n",
       "50%          0.000000\n",
       "75%          7.000000\n",
       "max          7.000000\n",
       "Name: dias para aprobación, dtype: float64"
      ]
     },
     "execution_count": 8,
     "metadata": {},
     "output_type": "execute_result"
    }
   ],
   "source": [
    "df['dias para aprobación'].describe()"
   ]
  },
  {
   "cell_type": "markdown",
   "metadata": {},
   "source": [
    "# MODELO"
   ]
  },
  {
   "cell_type": "code",
   "execution_count": 9,
   "metadata": {},
   "outputs": [],
   "source": [
    "from pycaret.regression import *\n",
    "from sklearn.model_selection import train_test_split"
   ]
  },
  {
   "cell_type": "markdown",
   "metadata": {},
   "source": [
    "### Variables usadas para entrenar el modelo inicial:\n",
    "- Dia fecha aprobacion = Dia de la semana que se aprobo la orden\n",
    "- Dia fecha orden = Dia de la semana que se hizo la orden\n",
    "- Mes fecha orden = Mes del año que se realizo la orden\n",
    "- semana del año orden = Semana del año que se hizo la orden\n",
    "- Usuario aprobador = Usuario que aprueba la orden  \n",
    "### Variable objetivo\n",
    "- dias para aprobación = Fecha aprobacion - fecha orden "
   ]
  },
  {
   "cell_type": "code",
   "execution_count": 10,
   "metadata": {},
   "outputs": [],
   "source": [
    "variables=df[[ 'dia fecha orden',\n",
    "       'mes fecha orden', 'semana del año orden','dias para aprobación','USUARIO APROBADOR','CATEGORÍA']]"
   ]
  },
  {
   "cell_type": "code",
   "execution_count": 11,
   "metadata": {},
   "outputs": [],
   "source": [
    "variables=variables.dropna()"
   ]
  },
  {
   "cell_type": "code",
   "execution_count": 12,
   "metadata": {},
   "outputs": [],
   "source": [
    "#Acomodando los datos para entrarlos al modelo\n",
    "variables['semana del año orden']=variables['semana del año orden'].astype('float64')\n",
    "variables['dias para aprobación']=variables['dias para aprobación'].astype('int64')"
   ]
  },
  {
   "cell_type": "code",
   "execution_count": 13,
   "metadata": {},
   "outputs": [
    {
     "name": "stdout",
     "output_type": "stream",
     "text": [
      "entrenamiento:  (14881, 6)\n",
      "test:  (6378, 6)\n"
     ]
    }
   ],
   "source": [
    "#Datos de entrenamiento y prueba\n",
    "train,test=train_test_split(variables,train_size=0.7,random_state=1234)\n",
    "print('entrenamiento: ',train.shape)\n",
    "print('test: ',test.shape)"
   ]
  },
  {
   "cell_type": "code",
   "execution_count": 14,
   "metadata": {},
   "outputs": [
    {
     "data": {
      "text/html": [
       "<style type=\"text/css\">\n",
       "#T_7c03d_row27_col1, #T_7c03d_row40_col1, #T_7c03d_row42_col1 {\n",
       "  background-color: lightgreen;\n",
       "}\n",
       "</style>\n",
       "<table id=\"T_7c03d_\">\n",
       "  <thead>\n",
       "    <tr>\n",
       "      <th class=\"blank level0\" >&nbsp;</th>\n",
       "      <th class=\"col_heading level0 col0\" >Description</th>\n",
       "      <th class=\"col_heading level0 col1\" >Value</th>\n",
       "    </tr>\n",
       "  </thead>\n",
       "  <tbody>\n",
       "    <tr>\n",
       "      <th id=\"T_7c03d_level0_row0\" class=\"row_heading level0 row0\" >0</th>\n",
       "      <td id=\"T_7c03d_row0_col0\" class=\"data row0 col0\" >session_id</td>\n",
       "      <td id=\"T_7c03d_row0_col1\" class=\"data row0 col1\" >5224</td>\n",
       "    </tr>\n",
       "    <tr>\n",
       "      <th id=\"T_7c03d_level0_row1\" class=\"row_heading level0 row1\" >1</th>\n",
       "      <td id=\"T_7c03d_row1_col0\" class=\"data row1 col0\" >Target</td>\n",
       "      <td id=\"T_7c03d_row1_col1\" class=\"data row1 col1\" >dias para aprobación</td>\n",
       "    </tr>\n",
       "    <tr>\n",
       "      <th id=\"T_7c03d_level0_row2\" class=\"row_heading level0 row2\" >2</th>\n",
       "      <td id=\"T_7c03d_row2_col0\" class=\"data row2 col0\" >Original Data</td>\n",
       "      <td id=\"T_7c03d_row2_col1\" class=\"data row2 col1\" >(14881, 6)</td>\n",
       "    </tr>\n",
       "    <tr>\n",
       "      <th id=\"T_7c03d_level0_row3\" class=\"row_heading level0 row3\" >3</th>\n",
       "      <td id=\"T_7c03d_row3_col0\" class=\"data row3 col0\" >Missing Values</td>\n",
       "      <td id=\"T_7c03d_row3_col1\" class=\"data row3 col1\" >False</td>\n",
       "    </tr>\n",
       "    <tr>\n",
       "      <th id=\"T_7c03d_level0_row4\" class=\"row_heading level0 row4\" >4</th>\n",
       "      <td id=\"T_7c03d_row4_col0\" class=\"data row4 col0\" >Numeric Features</td>\n",
       "      <td id=\"T_7c03d_row4_col1\" class=\"data row4 col1\" >3</td>\n",
       "    </tr>\n",
       "    <tr>\n",
       "      <th id=\"T_7c03d_level0_row5\" class=\"row_heading level0 row5\" >5</th>\n",
       "      <td id=\"T_7c03d_row5_col0\" class=\"data row5 col0\" >Categorical Features</td>\n",
       "      <td id=\"T_7c03d_row5_col1\" class=\"data row5 col1\" >2</td>\n",
       "    </tr>\n",
       "    <tr>\n",
       "      <th id=\"T_7c03d_level0_row6\" class=\"row_heading level0 row6\" >6</th>\n",
       "      <td id=\"T_7c03d_row6_col0\" class=\"data row6 col0\" >Ordinal Features</td>\n",
       "      <td id=\"T_7c03d_row6_col1\" class=\"data row6 col1\" >False</td>\n",
       "    </tr>\n",
       "    <tr>\n",
       "      <th id=\"T_7c03d_level0_row7\" class=\"row_heading level0 row7\" >7</th>\n",
       "      <td id=\"T_7c03d_row7_col0\" class=\"data row7 col0\" >High Cardinality Features</td>\n",
       "      <td id=\"T_7c03d_row7_col1\" class=\"data row7 col1\" >False</td>\n",
       "    </tr>\n",
       "    <tr>\n",
       "      <th id=\"T_7c03d_level0_row8\" class=\"row_heading level0 row8\" >8</th>\n",
       "      <td id=\"T_7c03d_row8_col0\" class=\"data row8 col0\" >High Cardinality Method</td>\n",
       "      <td id=\"T_7c03d_row8_col1\" class=\"data row8 col1\" >None</td>\n",
       "    </tr>\n",
       "    <tr>\n",
       "      <th id=\"T_7c03d_level0_row9\" class=\"row_heading level0 row9\" >9</th>\n",
       "      <td id=\"T_7c03d_row9_col0\" class=\"data row9 col0\" >Transformed Train Set</td>\n",
       "      <td id=\"T_7c03d_row9_col1\" class=\"data row9 col1\" >(10416, 103)</td>\n",
       "    </tr>\n",
       "    <tr>\n",
       "      <th id=\"T_7c03d_level0_row10\" class=\"row_heading level0 row10\" >10</th>\n",
       "      <td id=\"T_7c03d_row10_col0\" class=\"data row10 col0\" >Transformed Test Set</td>\n",
       "      <td id=\"T_7c03d_row10_col1\" class=\"data row10 col1\" >(4465, 103)</td>\n",
       "    </tr>\n",
       "    <tr>\n",
       "      <th id=\"T_7c03d_level0_row11\" class=\"row_heading level0 row11\" >11</th>\n",
       "      <td id=\"T_7c03d_row11_col0\" class=\"data row11 col0\" >Shuffle Train-Test</td>\n",
       "      <td id=\"T_7c03d_row11_col1\" class=\"data row11 col1\" >True</td>\n",
       "    </tr>\n",
       "    <tr>\n",
       "      <th id=\"T_7c03d_level0_row12\" class=\"row_heading level0 row12\" >12</th>\n",
       "      <td id=\"T_7c03d_row12_col0\" class=\"data row12 col0\" >Stratify Train-Test</td>\n",
       "      <td id=\"T_7c03d_row12_col1\" class=\"data row12 col1\" >False</td>\n",
       "    </tr>\n",
       "    <tr>\n",
       "      <th id=\"T_7c03d_level0_row13\" class=\"row_heading level0 row13\" >13</th>\n",
       "      <td id=\"T_7c03d_row13_col0\" class=\"data row13 col0\" >Fold Generator</td>\n",
       "      <td id=\"T_7c03d_row13_col1\" class=\"data row13 col1\" >KFold</td>\n",
       "    </tr>\n",
       "    <tr>\n",
       "      <th id=\"T_7c03d_level0_row14\" class=\"row_heading level0 row14\" >14</th>\n",
       "      <td id=\"T_7c03d_row14_col0\" class=\"data row14 col0\" >Fold Number</td>\n",
       "      <td id=\"T_7c03d_row14_col1\" class=\"data row14 col1\" >10</td>\n",
       "    </tr>\n",
       "    <tr>\n",
       "      <th id=\"T_7c03d_level0_row15\" class=\"row_heading level0 row15\" >15</th>\n",
       "      <td id=\"T_7c03d_row15_col0\" class=\"data row15 col0\" >CPU Jobs</td>\n",
       "      <td id=\"T_7c03d_row15_col1\" class=\"data row15 col1\" >-1</td>\n",
       "    </tr>\n",
       "    <tr>\n",
       "      <th id=\"T_7c03d_level0_row16\" class=\"row_heading level0 row16\" >16</th>\n",
       "      <td id=\"T_7c03d_row16_col0\" class=\"data row16 col0\" >Use GPU</td>\n",
       "      <td id=\"T_7c03d_row16_col1\" class=\"data row16 col1\" >False</td>\n",
       "    </tr>\n",
       "    <tr>\n",
       "      <th id=\"T_7c03d_level0_row17\" class=\"row_heading level0 row17\" >17</th>\n",
       "      <td id=\"T_7c03d_row17_col0\" class=\"data row17 col0\" >Log Experiment</td>\n",
       "      <td id=\"T_7c03d_row17_col1\" class=\"data row17 col1\" >False</td>\n",
       "    </tr>\n",
       "    <tr>\n",
       "      <th id=\"T_7c03d_level0_row18\" class=\"row_heading level0 row18\" >18</th>\n",
       "      <td id=\"T_7c03d_row18_col0\" class=\"data row18 col0\" >Experiment Name</td>\n",
       "      <td id=\"T_7c03d_row18_col1\" class=\"data row18 col1\" >reg-default-name</td>\n",
       "    </tr>\n",
       "    <tr>\n",
       "      <th id=\"T_7c03d_level0_row19\" class=\"row_heading level0 row19\" >19</th>\n",
       "      <td id=\"T_7c03d_row19_col0\" class=\"data row19 col0\" >USI</td>\n",
       "      <td id=\"T_7c03d_row19_col1\" class=\"data row19 col1\" >8e45</td>\n",
       "    </tr>\n",
       "    <tr>\n",
       "      <th id=\"T_7c03d_level0_row20\" class=\"row_heading level0 row20\" >20</th>\n",
       "      <td id=\"T_7c03d_row20_col0\" class=\"data row20 col0\" >Imputation Type</td>\n",
       "      <td id=\"T_7c03d_row20_col1\" class=\"data row20 col1\" >simple</td>\n",
       "    </tr>\n",
       "    <tr>\n",
       "      <th id=\"T_7c03d_level0_row21\" class=\"row_heading level0 row21\" >21</th>\n",
       "      <td id=\"T_7c03d_row21_col0\" class=\"data row21 col0\" >Iterative Imputation Iteration</td>\n",
       "      <td id=\"T_7c03d_row21_col1\" class=\"data row21 col1\" >None</td>\n",
       "    </tr>\n",
       "    <tr>\n",
       "      <th id=\"T_7c03d_level0_row22\" class=\"row_heading level0 row22\" >22</th>\n",
       "      <td id=\"T_7c03d_row22_col0\" class=\"data row22 col0\" >Numeric Imputer</td>\n",
       "      <td id=\"T_7c03d_row22_col1\" class=\"data row22 col1\" >mean</td>\n",
       "    </tr>\n",
       "    <tr>\n",
       "      <th id=\"T_7c03d_level0_row23\" class=\"row_heading level0 row23\" >23</th>\n",
       "      <td id=\"T_7c03d_row23_col0\" class=\"data row23 col0\" >Iterative Imputation Numeric Model</td>\n",
       "      <td id=\"T_7c03d_row23_col1\" class=\"data row23 col1\" >None</td>\n",
       "    </tr>\n",
       "    <tr>\n",
       "      <th id=\"T_7c03d_level0_row24\" class=\"row_heading level0 row24\" >24</th>\n",
       "      <td id=\"T_7c03d_row24_col0\" class=\"data row24 col0\" >Categorical Imputer</td>\n",
       "      <td id=\"T_7c03d_row24_col1\" class=\"data row24 col1\" >constant</td>\n",
       "    </tr>\n",
       "    <tr>\n",
       "      <th id=\"T_7c03d_level0_row25\" class=\"row_heading level0 row25\" >25</th>\n",
       "      <td id=\"T_7c03d_row25_col0\" class=\"data row25 col0\" >Iterative Imputation Categorical Model</td>\n",
       "      <td id=\"T_7c03d_row25_col1\" class=\"data row25 col1\" >None</td>\n",
       "    </tr>\n",
       "    <tr>\n",
       "      <th id=\"T_7c03d_level0_row26\" class=\"row_heading level0 row26\" >26</th>\n",
       "      <td id=\"T_7c03d_row26_col0\" class=\"data row26 col0\" >Unknown Categoricals Handling</td>\n",
       "      <td id=\"T_7c03d_row26_col1\" class=\"data row26 col1\" >least_frequent</td>\n",
       "    </tr>\n",
       "    <tr>\n",
       "      <th id=\"T_7c03d_level0_row27\" class=\"row_heading level0 row27\" >27</th>\n",
       "      <td id=\"T_7c03d_row27_col0\" class=\"data row27 col0\" >Normalize</td>\n",
       "      <td id=\"T_7c03d_row27_col1\" class=\"data row27 col1\" >True</td>\n",
       "    </tr>\n",
       "    <tr>\n",
       "      <th id=\"T_7c03d_level0_row28\" class=\"row_heading level0 row28\" >28</th>\n",
       "      <td id=\"T_7c03d_row28_col0\" class=\"data row28 col0\" >Normalize Method</td>\n",
       "      <td id=\"T_7c03d_row28_col1\" class=\"data row28 col1\" >minmax</td>\n",
       "    </tr>\n",
       "    <tr>\n",
       "      <th id=\"T_7c03d_level0_row29\" class=\"row_heading level0 row29\" >29</th>\n",
       "      <td id=\"T_7c03d_row29_col0\" class=\"data row29 col0\" >Transformation</td>\n",
       "      <td id=\"T_7c03d_row29_col1\" class=\"data row29 col1\" >False</td>\n",
       "    </tr>\n",
       "    <tr>\n",
       "      <th id=\"T_7c03d_level0_row30\" class=\"row_heading level0 row30\" >30</th>\n",
       "      <td id=\"T_7c03d_row30_col0\" class=\"data row30 col0\" >Transformation Method</td>\n",
       "      <td id=\"T_7c03d_row30_col1\" class=\"data row30 col1\" >None</td>\n",
       "    </tr>\n",
       "    <tr>\n",
       "      <th id=\"T_7c03d_level0_row31\" class=\"row_heading level0 row31\" >31</th>\n",
       "      <td id=\"T_7c03d_row31_col0\" class=\"data row31 col0\" >PCA</td>\n",
       "      <td id=\"T_7c03d_row31_col1\" class=\"data row31 col1\" >False</td>\n",
       "    </tr>\n",
       "    <tr>\n",
       "      <th id=\"T_7c03d_level0_row32\" class=\"row_heading level0 row32\" >32</th>\n",
       "      <td id=\"T_7c03d_row32_col0\" class=\"data row32 col0\" >PCA Method</td>\n",
       "      <td id=\"T_7c03d_row32_col1\" class=\"data row32 col1\" >None</td>\n",
       "    </tr>\n",
       "    <tr>\n",
       "      <th id=\"T_7c03d_level0_row33\" class=\"row_heading level0 row33\" >33</th>\n",
       "      <td id=\"T_7c03d_row33_col0\" class=\"data row33 col0\" >PCA Components</td>\n",
       "      <td id=\"T_7c03d_row33_col1\" class=\"data row33 col1\" >None</td>\n",
       "    </tr>\n",
       "    <tr>\n",
       "      <th id=\"T_7c03d_level0_row34\" class=\"row_heading level0 row34\" >34</th>\n",
       "      <td id=\"T_7c03d_row34_col0\" class=\"data row34 col0\" >Ignore Low Variance</td>\n",
       "      <td id=\"T_7c03d_row34_col1\" class=\"data row34 col1\" >False</td>\n",
       "    </tr>\n",
       "    <tr>\n",
       "      <th id=\"T_7c03d_level0_row35\" class=\"row_heading level0 row35\" >35</th>\n",
       "      <td id=\"T_7c03d_row35_col0\" class=\"data row35 col0\" >Combine Rare Levels</td>\n",
       "      <td id=\"T_7c03d_row35_col1\" class=\"data row35 col1\" >False</td>\n",
       "    </tr>\n",
       "    <tr>\n",
       "      <th id=\"T_7c03d_level0_row36\" class=\"row_heading level0 row36\" >36</th>\n",
       "      <td id=\"T_7c03d_row36_col0\" class=\"data row36 col0\" >Rare Level Threshold</td>\n",
       "      <td id=\"T_7c03d_row36_col1\" class=\"data row36 col1\" >None</td>\n",
       "    </tr>\n",
       "    <tr>\n",
       "      <th id=\"T_7c03d_level0_row37\" class=\"row_heading level0 row37\" >37</th>\n",
       "      <td id=\"T_7c03d_row37_col0\" class=\"data row37 col0\" >Numeric Binning</td>\n",
       "      <td id=\"T_7c03d_row37_col1\" class=\"data row37 col1\" >False</td>\n",
       "    </tr>\n",
       "    <tr>\n",
       "      <th id=\"T_7c03d_level0_row38\" class=\"row_heading level0 row38\" >38</th>\n",
       "      <td id=\"T_7c03d_row38_col0\" class=\"data row38 col0\" >Remove Outliers</td>\n",
       "      <td id=\"T_7c03d_row38_col1\" class=\"data row38 col1\" >False</td>\n",
       "    </tr>\n",
       "    <tr>\n",
       "      <th id=\"T_7c03d_level0_row39\" class=\"row_heading level0 row39\" >39</th>\n",
       "      <td id=\"T_7c03d_row39_col0\" class=\"data row39 col0\" >Outliers Threshold</td>\n",
       "      <td id=\"T_7c03d_row39_col1\" class=\"data row39 col1\" >None</td>\n",
       "    </tr>\n",
       "    <tr>\n",
       "      <th id=\"T_7c03d_level0_row40\" class=\"row_heading level0 row40\" >40</th>\n",
       "      <td id=\"T_7c03d_row40_col0\" class=\"data row40 col0\" >Remove Multicollinearity</td>\n",
       "      <td id=\"T_7c03d_row40_col1\" class=\"data row40 col1\" >True</td>\n",
       "    </tr>\n",
       "    <tr>\n",
       "      <th id=\"T_7c03d_level0_row41\" class=\"row_heading level0 row41\" >41</th>\n",
       "      <td id=\"T_7c03d_row41_col0\" class=\"data row41 col0\" >Multicollinearity Threshold</td>\n",
       "      <td id=\"T_7c03d_row41_col1\" class=\"data row41 col1\" >0.800000</td>\n",
       "    </tr>\n",
       "    <tr>\n",
       "      <th id=\"T_7c03d_level0_row42\" class=\"row_heading level0 row42\" >42</th>\n",
       "      <td id=\"T_7c03d_row42_col0\" class=\"data row42 col0\" >Remove Perfect Collinearity</td>\n",
       "      <td id=\"T_7c03d_row42_col1\" class=\"data row42 col1\" >True</td>\n",
       "    </tr>\n",
       "    <tr>\n",
       "      <th id=\"T_7c03d_level0_row43\" class=\"row_heading level0 row43\" >43</th>\n",
       "      <td id=\"T_7c03d_row43_col0\" class=\"data row43 col0\" >Clustering</td>\n",
       "      <td id=\"T_7c03d_row43_col1\" class=\"data row43 col1\" >False</td>\n",
       "    </tr>\n",
       "    <tr>\n",
       "      <th id=\"T_7c03d_level0_row44\" class=\"row_heading level0 row44\" >44</th>\n",
       "      <td id=\"T_7c03d_row44_col0\" class=\"data row44 col0\" >Clustering Iteration</td>\n",
       "      <td id=\"T_7c03d_row44_col1\" class=\"data row44 col1\" >None</td>\n",
       "    </tr>\n",
       "    <tr>\n",
       "      <th id=\"T_7c03d_level0_row45\" class=\"row_heading level0 row45\" >45</th>\n",
       "      <td id=\"T_7c03d_row45_col0\" class=\"data row45 col0\" >Polynomial Features</td>\n",
       "      <td id=\"T_7c03d_row45_col1\" class=\"data row45 col1\" >False</td>\n",
       "    </tr>\n",
       "    <tr>\n",
       "      <th id=\"T_7c03d_level0_row46\" class=\"row_heading level0 row46\" >46</th>\n",
       "      <td id=\"T_7c03d_row46_col0\" class=\"data row46 col0\" >Polynomial Degree</td>\n",
       "      <td id=\"T_7c03d_row46_col1\" class=\"data row46 col1\" >None</td>\n",
       "    </tr>\n",
       "    <tr>\n",
       "      <th id=\"T_7c03d_level0_row47\" class=\"row_heading level0 row47\" >47</th>\n",
       "      <td id=\"T_7c03d_row47_col0\" class=\"data row47 col0\" >Trignometry Features</td>\n",
       "      <td id=\"T_7c03d_row47_col1\" class=\"data row47 col1\" >False</td>\n",
       "    </tr>\n",
       "    <tr>\n",
       "      <th id=\"T_7c03d_level0_row48\" class=\"row_heading level0 row48\" >48</th>\n",
       "      <td id=\"T_7c03d_row48_col0\" class=\"data row48 col0\" >Polynomial Threshold</td>\n",
       "      <td id=\"T_7c03d_row48_col1\" class=\"data row48 col1\" >None</td>\n",
       "    </tr>\n",
       "    <tr>\n",
       "      <th id=\"T_7c03d_level0_row49\" class=\"row_heading level0 row49\" >49</th>\n",
       "      <td id=\"T_7c03d_row49_col0\" class=\"data row49 col0\" >Group Features</td>\n",
       "      <td id=\"T_7c03d_row49_col1\" class=\"data row49 col1\" >False</td>\n",
       "    </tr>\n",
       "    <tr>\n",
       "      <th id=\"T_7c03d_level0_row50\" class=\"row_heading level0 row50\" >50</th>\n",
       "      <td id=\"T_7c03d_row50_col0\" class=\"data row50 col0\" >Feature Selection</td>\n",
       "      <td id=\"T_7c03d_row50_col1\" class=\"data row50 col1\" >False</td>\n",
       "    </tr>\n",
       "    <tr>\n",
       "      <th id=\"T_7c03d_level0_row51\" class=\"row_heading level0 row51\" >51</th>\n",
       "      <td id=\"T_7c03d_row51_col0\" class=\"data row51 col0\" >Feature Selection Method</td>\n",
       "      <td id=\"T_7c03d_row51_col1\" class=\"data row51 col1\" >classic</td>\n",
       "    </tr>\n",
       "    <tr>\n",
       "      <th id=\"T_7c03d_level0_row52\" class=\"row_heading level0 row52\" >52</th>\n",
       "      <td id=\"T_7c03d_row52_col0\" class=\"data row52 col0\" >Features Selection Threshold</td>\n",
       "      <td id=\"T_7c03d_row52_col1\" class=\"data row52 col1\" >None</td>\n",
       "    </tr>\n",
       "    <tr>\n",
       "      <th id=\"T_7c03d_level0_row53\" class=\"row_heading level0 row53\" >53</th>\n",
       "      <td id=\"T_7c03d_row53_col0\" class=\"data row53 col0\" >Feature Interaction</td>\n",
       "      <td id=\"T_7c03d_row53_col1\" class=\"data row53 col1\" >False</td>\n",
       "    </tr>\n",
       "    <tr>\n",
       "      <th id=\"T_7c03d_level0_row54\" class=\"row_heading level0 row54\" >54</th>\n",
       "      <td id=\"T_7c03d_row54_col0\" class=\"data row54 col0\" >Feature Ratio</td>\n",
       "      <td id=\"T_7c03d_row54_col1\" class=\"data row54 col1\" >False</td>\n",
       "    </tr>\n",
       "    <tr>\n",
       "      <th id=\"T_7c03d_level0_row55\" class=\"row_heading level0 row55\" >55</th>\n",
       "      <td id=\"T_7c03d_row55_col0\" class=\"data row55 col0\" >Interaction Threshold</td>\n",
       "      <td id=\"T_7c03d_row55_col1\" class=\"data row55 col1\" >None</td>\n",
       "    </tr>\n",
       "    <tr>\n",
       "      <th id=\"T_7c03d_level0_row56\" class=\"row_heading level0 row56\" >56</th>\n",
       "      <td id=\"T_7c03d_row56_col0\" class=\"data row56 col0\" >Transform Target</td>\n",
       "      <td id=\"T_7c03d_row56_col1\" class=\"data row56 col1\" >False</td>\n",
       "    </tr>\n",
       "    <tr>\n",
       "      <th id=\"T_7c03d_level0_row57\" class=\"row_heading level0 row57\" >57</th>\n",
       "      <td id=\"T_7c03d_row57_col0\" class=\"data row57 col0\" >Transform Target Method</td>\n",
       "      <td id=\"T_7c03d_row57_col1\" class=\"data row57 col1\" >box-cox</td>\n",
       "    </tr>\n",
       "  </tbody>\n",
       "</table>\n"
      ],
      "text/plain": [
       "<pandas.io.formats.style.Styler at 0x158a3103ee0>"
      ]
     },
     "metadata": {},
     "output_type": "display_data"
    }
   ],
   "source": [
    "setup(train,target='dias para aprobación',\n",
    "            train_size=0.7,\n",
    "            preprocess=True,\n",
    "            remove_multicollinearity=True,\n",
    "            multicollinearity_threshold=0.8,\n",
    "            numeric_features=['dia fecha orden',\n",
    "                           'mes fecha orden','semana del año orden'],\n",
    "            normalize=True,\n",
    "            normalize_method='minmax',\n",
    "      fold_shuffle=True\n",
    "      \n",
    "    \n",
    "      \n",
    "            );"
   ]
  },
  {
   "cell_type": "code",
   "execution_count": null,
   "metadata": {},
   "outputs": [
    {
     "data": {
      "application/vnd.jupyter.widget-view+json": {
       "model_id": "ccfcc73d8d6244a7b88d4107fafa0095",
       "version_major": 2,
       "version_minor": 0
      },
      "text/plain": [
       "IntProgress(value=0, description='Processing: ', max=94)"
      ]
     },
     "metadata": {},
     "output_type": "display_data"
    },
    {
     "data": {
      "text/html": [
       "<div>\n",
       "<style scoped>\n",
       "    .dataframe tbody tr th:only-of-type {\n",
       "        vertical-align: middle;\n",
       "    }\n",
       "\n",
       "    .dataframe tbody tr th {\n",
       "        vertical-align: top;\n",
       "    }\n",
       "\n",
       "    .dataframe thead th {\n",
       "        text-align: right;\n",
       "    }\n",
       "</style>\n",
       "<table border=\"1\" class=\"dataframe\">\n",
       "  <thead>\n",
       "    <tr style=\"text-align: right;\">\n",
       "      <th></th>\n",
       "      <th></th>\n",
       "      <th></th>\n",
       "    </tr>\n",
       "    <tr>\n",
       "      <th></th>\n",
       "      <th></th>\n",
       "      <th></th>\n",
       "    </tr>\n",
       "  </thead>\n",
       "  <tbody>\n",
       "    <tr>\n",
       "      <th>Initiated</th>\n",
       "      <td>. . . . . . . . . . . . . . . . . .</td>\n",
       "      <td>12:33:34</td>\n",
       "    </tr>\n",
       "    <tr>\n",
       "      <th>Status</th>\n",
       "      <td>. . . . . . . . . . . . . . . . . .</td>\n",
       "      <td>Fitting 10 Folds</td>\n",
       "    </tr>\n",
       "    <tr>\n",
       "      <th>Estimator</th>\n",
       "      <td>. . . . . . . . . . . . . . . . . .</td>\n",
       "      <td>Random Forest Regressor</td>\n",
       "    </tr>\n",
       "  </tbody>\n",
       "</table>\n",
       "</div>"
      ],
      "text/plain": [
       "                                                                       \n",
       "                                                                       \n",
       "Initiated  . . . . . . . . . . . . . . . . . .                 12:33:34\n",
       "Status     . . . . . . . . . . . . . . . . . .         Fitting 10 Folds\n",
       "Estimator  . . . . . . . . . . . . . . . . . .  Random Forest Regressor"
      ]
     },
     "metadata": {},
     "output_type": "display_data"
    },
    {
     "data": {
      "text/html": [
       "<style type=\"text/css\">\n",
       "#T_36cfc_ th {\n",
       "  text-align: left;\n",
       "}\n",
       "#T_36cfc_row0_col0, #T_36cfc_row0_col1, #T_36cfc_row0_col2, #T_36cfc_row0_col3, #T_36cfc_row0_col4, #T_36cfc_row0_col5, #T_36cfc_row0_col6, #T_36cfc_row0_col7, #T_36cfc_row1_col0, #T_36cfc_row1_col1, #T_36cfc_row1_col2, #T_36cfc_row1_col3, #T_36cfc_row1_col4, #T_36cfc_row1_col5, #T_36cfc_row1_col6, #T_36cfc_row1_col7, #T_36cfc_row2_col0, #T_36cfc_row2_col1, #T_36cfc_row2_col2, #T_36cfc_row2_col3, #T_36cfc_row2_col4, #T_36cfc_row2_col5, #T_36cfc_row2_col6, #T_36cfc_row2_col7, #T_36cfc_row3_col0, #T_36cfc_row3_col1, #T_36cfc_row3_col2, #T_36cfc_row3_col3, #T_36cfc_row3_col4, #T_36cfc_row3_col5, #T_36cfc_row3_col6, #T_36cfc_row3_col7, #T_36cfc_row4_col0, #T_36cfc_row4_col1, #T_36cfc_row4_col2, #T_36cfc_row4_col3, #T_36cfc_row4_col4, #T_36cfc_row4_col5, #T_36cfc_row4_col6, #T_36cfc_row4_col7, #T_36cfc_row5_col0, #T_36cfc_row5_col1, #T_36cfc_row5_col2, #T_36cfc_row5_col3, #T_36cfc_row5_col4, #T_36cfc_row5_col5, #T_36cfc_row5_col6, #T_36cfc_row5_col7, #T_36cfc_row6_col0, #T_36cfc_row6_col1, #T_36cfc_row6_col2, #T_36cfc_row6_col3, #T_36cfc_row6_col4, #T_36cfc_row6_col5, #T_36cfc_row6_col6, #T_36cfc_row6_col7, #T_36cfc_row7_col0, #T_36cfc_row7_col1, #T_36cfc_row7_col2, #T_36cfc_row7_col3, #T_36cfc_row7_col4, #T_36cfc_row7_col5, #T_36cfc_row7_col6, #T_36cfc_row7_col7, #T_36cfc_row8_col0, #T_36cfc_row8_col1, #T_36cfc_row8_col2, #T_36cfc_row8_col3, #T_36cfc_row8_col4, #T_36cfc_row8_col5, #T_36cfc_row8_col6, #T_36cfc_row8_col7, #T_36cfc_row9_col0, #T_36cfc_row9_col1, #T_36cfc_row9_col2, #T_36cfc_row9_col3, #T_36cfc_row9_col4, #T_36cfc_row9_col5, #T_36cfc_row9_col6, #T_36cfc_row9_col7, #T_36cfc_row10_col0, #T_36cfc_row10_col1, #T_36cfc_row10_col2, #T_36cfc_row10_col3, #T_36cfc_row10_col4, #T_36cfc_row10_col5, #T_36cfc_row10_col6, #T_36cfc_row10_col7, #T_36cfc_row11_col0, #T_36cfc_row11_col1, #T_36cfc_row11_col2, #T_36cfc_row11_col3, #T_36cfc_row11_col4, #T_36cfc_row11_col5, #T_36cfc_row11_col6, #T_36cfc_row11_col7 {\n",
       "  text-align: left;\n",
       "}\n",
       "</style>\n",
       "<table id=\"T_36cfc_\">\n",
       "  <thead>\n",
       "    <tr>\n",
       "      <th class=\"blank level0\" >&nbsp;</th>\n",
       "      <th class=\"col_heading level0 col0\" >Model</th>\n",
       "      <th class=\"col_heading level0 col1\" >MAE</th>\n",
       "      <th class=\"col_heading level0 col2\" >MSE</th>\n",
       "      <th class=\"col_heading level0 col3\" >RMSE</th>\n",
       "      <th class=\"col_heading level0 col4\" >R2</th>\n",
       "      <th class=\"col_heading level0 col5\" >RMSLE</th>\n",
       "      <th class=\"col_heading level0 col6\" >MAPE</th>\n",
       "      <th class=\"col_heading level0 col7\" >TT (Sec)</th>\n",
       "    </tr>\n",
       "  </thead>\n",
       "  <tbody>\n",
       "    <tr>\n",
       "      <th id=\"T_36cfc_level0_row0\" class=\"row_heading level0 row0\" >dt</th>\n",
       "      <td id=\"T_36cfc_row0_col0\" class=\"data row0 col0\" >Decision Tree Regressor</td>\n",
       "      <td id=\"T_36cfc_row0_col1\" class=\"data row0 col1\" >0.2862</td>\n",
       "      <td id=\"T_36cfc_row0_col2\" class=\"data row0 col2\" >0.7734</td>\n",
       "      <td id=\"T_36cfc_row0_col3\" class=\"data row0 col3\" >0.8771</td>\n",
       "      <td id=\"T_36cfc_row0_col4\" class=\"data row0 col4\" >0.9141</td>\n",
       "      <td id=\"T_36cfc_row0_col5\" class=\"data row0 col5\" >0.3081</td>\n",
       "      <td id=\"T_36cfc_row0_col6\" class=\"data row0 col6\" >0.1761</td>\n",
       "      <td id=\"T_36cfc_row0_col7\" class=\"data row0 col7\" >0.0240</td>\n",
       "    </tr>\n",
       "    <tr>\n",
       "      <th id=\"T_36cfc_level0_row1\" class=\"row_heading level0 row1\" >knn</th>\n",
       "      <td id=\"T_36cfc_row1_col0\" class=\"data row1 col0\" >K Neighbors Regressor</td>\n",
       "      <td id=\"T_36cfc_row1_col1\" class=\"data row1 col1\" >0.3441</td>\n",
       "      <td id=\"T_36cfc_row1_col2\" class=\"data row1 col2\" >0.7940</td>\n",
       "      <td id=\"T_36cfc_row1_col3\" class=\"data row1 col3\" >0.8888</td>\n",
       "      <td id=\"T_36cfc_row1_col4\" class=\"data row1 col4\" >0.9118</td>\n",
       "      <td id=\"T_36cfc_row1_col5\" class=\"data row1 col5\" >0.3245</td>\n",
       "      <td id=\"T_36cfc_row1_col6\" class=\"data row1 col6\" >0.2046</td>\n",
       "      <td id=\"T_36cfc_row1_col7\" class=\"data row1 col7\" >0.1190</td>\n",
       "    </tr>\n",
       "    <tr>\n",
       "      <th id=\"T_36cfc_level0_row2\" class=\"row_heading level0 row2\" >ridge</th>\n",
       "      <td id=\"T_36cfc_row2_col0\" class=\"data row2 col0\" >Ridge Regression</td>\n",
       "      <td id=\"T_36cfc_row2_col1\" class=\"data row2 col1\" >0.7145</td>\n",
       "      <td id=\"T_36cfc_row2_col2\" class=\"data row2 col2\" >1.4275</td>\n",
       "      <td id=\"T_36cfc_row2_col3\" class=\"data row2 col3\" >1.1940</td>\n",
       "      <td id=\"T_36cfc_row2_col4\" class=\"data row2 col4\" >0.8414</td>\n",
       "      <td id=\"T_36cfc_row2_col5\" class=\"data row2 col5\" >0.4498</td>\n",
       "      <td id=\"T_36cfc_row2_col6\" class=\"data row2 col6\" >0.3260</td>\n",
       "      <td id=\"T_36cfc_row2_col7\" class=\"data row2 col7\" >0.0170</td>\n",
       "    </tr>\n",
       "    <tr>\n",
       "      <th id=\"T_36cfc_level0_row3\" class=\"row_heading level0 row3\" >br</th>\n",
       "      <td id=\"T_36cfc_row3_col0\" class=\"data row3 col0\" >Bayesian Ridge</td>\n",
       "      <td id=\"T_36cfc_row3_col1\" class=\"data row3 col1\" >0.7146</td>\n",
       "      <td id=\"T_36cfc_row3_col2\" class=\"data row3 col2\" >1.4275</td>\n",
       "      <td id=\"T_36cfc_row3_col3\" class=\"data row3 col3\" >1.1940</td>\n",
       "      <td id=\"T_36cfc_row3_col4\" class=\"data row3 col4\" >0.8414</td>\n",
       "      <td id=\"T_36cfc_row3_col5\" class=\"data row3 col5\" >0.4498</td>\n",
       "      <td id=\"T_36cfc_row3_col6\" class=\"data row3 col6\" >0.3260</td>\n",
       "      <td id=\"T_36cfc_row3_col7\" class=\"data row3 col7\" >0.0950</td>\n",
       "    </tr>\n",
       "    <tr>\n",
       "      <th id=\"T_36cfc_level0_row4\" class=\"row_heading level0 row4\" >omp</th>\n",
       "      <td id=\"T_36cfc_row4_col0\" class=\"data row4 col0\" >Orthogonal Matching Pursuit</td>\n",
       "      <td id=\"T_36cfc_row4_col1\" class=\"data row4 col1\" >0.7561</td>\n",
       "      <td id=\"T_36cfc_row4_col2\" class=\"data row4 col2\" >1.5975</td>\n",
       "      <td id=\"T_36cfc_row4_col3\" class=\"data row4 col3\" >1.2634</td>\n",
       "      <td id=\"T_36cfc_row4_col4\" class=\"data row4 col4\" >0.8225</td>\n",
       "      <td id=\"T_36cfc_row4_col5\" class=\"data row4 col5\" >0.4745</td>\n",
       "      <td id=\"T_36cfc_row4_col6\" class=\"data row4 col6\" >0.3449</td>\n",
       "      <td id=\"T_36cfc_row4_col7\" class=\"data row4 col7\" >0.0190</td>\n",
       "    </tr>\n",
       "    <tr>\n",
       "      <th id=\"T_36cfc_level0_row5\" class=\"row_heading level0 row5\" >huber</th>\n",
       "      <td id=\"T_36cfc_row5_col0\" class=\"data row5 col0\" >Huber Regressor</td>\n",
       "      <td id=\"T_36cfc_row5_col1\" class=\"data row5 col1\" >0.5668</td>\n",
       "      <td id=\"T_36cfc_row5_col2\" class=\"data row5 col2\" >1.9509</td>\n",
       "      <td id=\"T_36cfc_row5_col3\" class=\"data row5 col3\" >1.3962</td>\n",
       "      <td id=\"T_36cfc_row5_col4\" class=\"data row5 col4\" >0.7832</td>\n",
       "      <td id=\"T_36cfc_row5_col5\" class=\"data row5 col5\" >0.4646</td>\n",
       "      <td id=\"T_36cfc_row5_col6\" class=\"data row5 col6\" >0.4031</td>\n",
       "      <td id=\"T_36cfc_row5_col7\" class=\"data row5 col7\" >0.5150</td>\n",
       "    </tr>\n",
       "    <tr>\n",
       "      <th id=\"T_36cfc_level0_row6\" class=\"row_heading level0 row6\" >par</th>\n",
       "      <td id=\"T_36cfc_row6_col0\" class=\"data row6 col0\" >Passive Aggressive Regressor</td>\n",
       "      <td id=\"T_36cfc_row6_col1\" class=\"data row6 col1\" >1.3121</td>\n",
       "      <td id=\"T_36cfc_row6_col2\" class=\"data row6 col2\" >3.1093</td>\n",
       "      <td id=\"T_36cfc_row6_col3\" class=\"data row6 col3\" >1.7392</td>\n",
       "      <td id=\"T_36cfc_row6_col4\" class=\"data row6 col4\" >0.6539</td>\n",
       "      <td id=\"T_36cfc_row6_col5\" class=\"data row6 col5\" >0.6791</td>\n",
       "      <td id=\"T_36cfc_row6_col6\" class=\"data row6 col6\" >0.4986</td>\n",
       "      <td id=\"T_36cfc_row6_col7\" class=\"data row6 col7\" >0.0250</td>\n",
       "    </tr>\n",
       "    <tr>\n",
       "      <th id=\"T_36cfc_level0_row7\" class=\"row_heading level0 row7\" >en</th>\n",
       "      <td id=\"T_36cfc_row7_col0\" class=\"data row7 col0\" >Elastic Net</td>\n",
       "      <td id=\"T_36cfc_row7_col1\" class=\"data row7 col1\" >2.3777</td>\n",
       "      <td id=\"T_36cfc_row7_col2\" class=\"data row7 col2\" >6.9877</td>\n",
       "      <td id=\"T_36cfc_row7_col3\" class=\"data row7 col3\" >2.6431</td>\n",
       "      <td id=\"T_36cfc_row7_col4\" class=\"data row7 col4\" >0.2243</td>\n",
       "      <td id=\"T_36cfc_row7_col5\" class=\"data row7 col5\" >0.9092</td>\n",
       "      <td id=\"T_36cfc_row7_col6\" class=\"data row7 col6\" >0.5993</td>\n",
       "      <td id=\"T_36cfc_row7_col7\" class=\"data row7 col7\" >0.0180</td>\n",
       "    </tr>\n",
       "    <tr>\n",
       "      <th id=\"T_36cfc_level0_row8\" class=\"row_heading level0 row8\" >lasso</th>\n",
       "      <td id=\"T_36cfc_row8_col0\" class=\"data row8 col0\" >Lasso Regression</td>\n",
       "      <td id=\"T_36cfc_row8_col1\" class=\"data row8 col1\" >2.4383</td>\n",
       "      <td id=\"T_36cfc_row8_col2\" class=\"data row8 col2\" >7.3527</td>\n",
       "      <td id=\"T_36cfc_row8_col3\" class=\"data row8 col3\" >2.7112</td>\n",
       "      <td id=\"T_36cfc_row8_col4\" class=\"data row8 col4\" >0.1838</td>\n",
       "      <td id=\"T_36cfc_row8_col5\" class=\"data row8 col5\" >0.9263</td>\n",
       "      <td id=\"T_36cfc_row8_col6\" class=\"data row8 col6\" >0.6162</td>\n",
       "      <td id=\"T_36cfc_row8_col7\" class=\"data row8 col7\" >0.2500</td>\n",
       "    </tr>\n",
       "    <tr>\n",
       "      <th id=\"T_36cfc_level0_row9\" class=\"row_heading level0 row9\" >llar</th>\n",
       "      <td id=\"T_36cfc_row9_col0\" class=\"data row9 col0\" >Lasso Least Angle Regression</td>\n",
       "      <td id=\"T_36cfc_row9_col1\" class=\"data row9 col1\" >2.6925</td>\n",
       "      <td id=\"T_36cfc_row9_col2\" class=\"data row9 col2\" >9.0182</td>\n",
       "      <td id=\"T_36cfc_row9_col3\" class=\"data row9 col3\" >3.0027</td>\n",
       "      <td id=\"T_36cfc_row9_col4\" class=\"data row9 col4\" >-0.0012</td>\n",
       "      <td id=\"T_36cfc_row9_col5\" class=\"data row9 col5\" >1.0002</td>\n",
       "      <td id=\"T_36cfc_row9_col6\" class=\"data row9 col6\" >0.6937</td>\n",
       "      <td id=\"T_36cfc_row9_col7\" class=\"data row9 col7\" >0.0170</td>\n",
       "    </tr>\n",
       "    <tr>\n",
       "      <th id=\"T_36cfc_level0_row10\" class=\"row_heading level0 row10\" >lr</th>\n",
       "      <td id=\"T_36cfc_row10_col0\" class=\"data row10 col0\" >Linear Regression</td>\n",
       "      <td id=\"T_36cfc_row10_col1\" class=\"data row10 col1\" >10.2511</td>\n",
       "      <td id=\"T_36cfc_row10_col2\" class=\"data row10 col2\" >206402.4424</td>\n",
       "      <td id=\"T_36cfc_row10_col3\" class=\"data row10 col3\" >190.0741</td>\n",
       "      <td id=\"T_36cfc_row10_col4\" class=\"data row10 col4\" >-22896.6169</td>\n",
       "      <td id=\"T_36cfc_row10_col5\" class=\"data row10 col5\" >0.5298</td>\n",
       "      <td id=\"T_36cfc_row10_col6\" class=\"data row10 col6\" >0.8346</td>\n",
       "      <td id=\"T_36cfc_row10_col7\" class=\"data row10 col7\" >0.5470</td>\n",
       "    </tr>\n",
       "    <tr>\n",
       "      <th id=\"T_36cfc_level0_row11\" class=\"row_heading level0 row11\" >lar</th>\n",
       "      <td id=\"T_36cfc_row11_col0\" class=\"data row11 col0\" >Least Angle Regression</td>\n",
       "      <td id=\"T_36cfc_row11_col1\" class=\"data row11 col1\" >10484063932.1195</td>\n",
       "      <td id=\"T_36cfc_row11_col2\" class=\"data row11 col2\" >568109276278887618183168.0000</td>\n",
       "      <td id=\"T_36cfc_row11_col3\" class=\"data row11 col3\" >238681557136.8130</td>\n",
       "      <td id=\"T_36cfc_row11_col4\" class=\"data row11 col4\" >-63127324634098960433152.0000</td>\n",
       "      <td id=\"T_36cfc_row11_col5\" class=\"data row11 col5\" >5.1129</td>\n",
       "      <td id=\"T_36cfc_row11_col6\" class=\"data row11 col6\" >11699932306.6939</td>\n",
       "      <td id=\"T_36cfc_row11_col7\" class=\"data row11 col7\" >0.0200</td>\n",
       "    </tr>\n",
       "  </tbody>\n",
       "</table>\n"
      ],
      "text/plain": [
       "<pandas.io.formats.style.Styler at 0x158a2e91ee0>"
      ]
     },
     "metadata": {},
     "output_type": "display_data"
    }
   ],
   "source": [
    "compare_models(fold=10,sort='RMSE')"
   ]
  },
  {
   "cell_type": "code",
   "execution_count": 16,
   "metadata": {},
   "outputs": [
    {
     "data": {
      "text/html": [
       "<style type=\"text/css\">\n",
       "#T_7810a_row10_col0, #T_7810a_row10_col1, #T_7810a_row10_col2, #T_7810a_row10_col3, #T_7810a_row10_col4, #T_7810a_row10_col5 {\n",
       "  background: yellow;\n",
       "}\n",
       "</style>\n",
       "<table id=\"T_7810a_\">\n",
       "  <thead>\n",
       "    <tr>\n",
       "      <th class=\"blank level0\" >&nbsp;</th>\n",
       "      <th class=\"col_heading level0 col0\" >MAE</th>\n",
       "      <th class=\"col_heading level0 col1\" >MSE</th>\n",
       "      <th class=\"col_heading level0 col2\" >RMSE</th>\n",
       "      <th class=\"col_heading level0 col3\" >R2</th>\n",
       "      <th class=\"col_heading level0 col4\" >RMSLE</th>\n",
       "      <th class=\"col_heading level0 col5\" >MAPE</th>\n",
       "    </tr>\n",
       "  </thead>\n",
       "  <tbody>\n",
       "    <tr>\n",
       "      <th id=\"T_7810a_level0_row0\" class=\"row_heading level0 row0\" >0</th>\n",
       "      <td id=\"T_7810a_row0_col0\" class=\"data row0 col0\" >0.3005</td>\n",
       "      <td id=\"T_7810a_row0_col1\" class=\"data row0 col1\" >0.6759</td>\n",
       "      <td id=\"T_7810a_row0_col2\" class=\"data row0 col2\" >0.8222</td>\n",
       "      <td id=\"T_7810a_row0_col3\" class=\"data row0 col3\" >0.9277</td>\n",
       "      <td id=\"T_7810a_row0_col4\" class=\"data row0 col4\" >0.2824</td>\n",
       "      <td id=\"T_7810a_row0_col5\" class=\"data row0 col5\" >0.1837</td>\n",
       "    </tr>\n",
       "    <tr>\n",
       "      <th id=\"T_7810a_level0_row1\" class=\"row_heading level0 row1\" >1</th>\n",
       "      <td id=\"T_7810a_row1_col0\" class=\"data row1 col0\" >0.3129</td>\n",
       "      <td id=\"T_7810a_row1_col1\" class=\"data row1 col1\" >0.6365</td>\n",
       "      <td id=\"T_7810a_row1_col2\" class=\"data row1 col2\" >0.7978</td>\n",
       "      <td id=\"T_7810a_row1_col3\" class=\"data row1 col3\" >0.9309</td>\n",
       "      <td id=\"T_7810a_row1_col4\" class=\"data row1 col4\" >0.3118</td>\n",
       "      <td id=\"T_7810a_row1_col5\" class=\"data row1 col5\" >0.1834</td>\n",
       "    </tr>\n",
       "    <tr>\n",
       "      <th id=\"T_7810a_level0_row2\" class=\"row_heading level0 row2\" >2</th>\n",
       "      <td id=\"T_7810a_row2_col0\" class=\"data row2 col0\" >0.3167</td>\n",
       "      <td id=\"T_7810a_row2_col1\" class=\"data row2 col1\" >0.7247</td>\n",
       "      <td id=\"T_7810a_row2_col2\" class=\"data row2 col2\" >0.8513</td>\n",
       "      <td id=\"T_7810a_row2_col3\" class=\"data row2 col3\" >0.9213</td>\n",
       "      <td id=\"T_7810a_row2_col4\" class=\"data row2 col4\" >0.2927</td>\n",
       "      <td id=\"T_7810a_row2_col5\" class=\"data row2 col5\" >0.1888</td>\n",
       "    </tr>\n",
       "    <tr>\n",
       "      <th id=\"T_7810a_level0_row3\" class=\"row_heading level0 row3\" >3</th>\n",
       "      <td id=\"T_7810a_row3_col0\" class=\"data row3 col0\" >0.2804</td>\n",
       "      <td id=\"T_7810a_row3_col1\" class=\"data row3 col1\" >0.5691</td>\n",
       "      <td id=\"T_7810a_row3_col2\" class=\"data row3 col2\" >0.7544</td>\n",
       "      <td id=\"T_7810a_row3_col3\" class=\"data row3 col3\" >0.9313</td>\n",
       "      <td id=\"T_7810a_row3_col4\" class=\"data row3 col4\" >0.2779</td>\n",
       "      <td id=\"T_7810a_row3_col5\" class=\"data row3 col5\" >0.1960</td>\n",
       "    </tr>\n",
       "    <tr>\n",
       "      <th id=\"T_7810a_level0_row4\" class=\"row_heading level0 row4\" >4</th>\n",
       "      <td id=\"T_7810a_row4_col0\" class=\"data row4 col0\" >0.3093</td>\n",
       "      <td id=\"T_7810a_row4_col1\" class=\"data row4 col1\" >0.7206</td>\n",
       "      <td id=\"T_7810a_row4_col2\" class=\"data row4 col2\" >0.8489</td>\n",
       "      <td id=\"T_7810a_row4_col3\" class=\"data row4 col3\" >0.9221</td>\n",
       "      <td id=\"T_7810a_row4_col4\" class=\"data row4 col4\" >0.2840</td>\n",
       "      <td id=\"T_7810a_row4_col5\" class=\"data row4 col5\" >0.1899</td>\n",
       "    </tr>\n",
       "    <tr>\n",
       "      <th id=\"T_7810a_level0_row5\" class=\"row_heading level0 row5\" >5</th>\n",
       "      <td id=\"T_7810a_row5_col0\" class=\"data row5 col0\" >0.3245</td>\n",
       "      <td id=\"T_7810a_row5_col1\" class=\"data row5 col1\" >0.8092</td>\n",
       "      <td id=\"T_7810a_row5_col2\" class=\"data row5 col2\" >0.8995</td>\n",
       "      <td id=\"T_7810a_row5_col3\" class=\"data row5 col3\" >0.9060</td>\n",
       "      <td id=\"T_7810a_row5_col4\" class=\"data row5 col4\" >0.3232</td>\n",
       "      <td id=\"T_7810a_row5_col5\" class=\"data row5 col5\" >0.1848</td>\n",
       "    </tr>\n",
       "    <tr>\n",
       "      <th id=\"T_7810a_level0_row6\" class=\"row_heading level0 row6\" >6</th>\n",
       "      <td id=\"T_7810a_row6_col0\" class=\"data row6 col0\" >0.2660</td>\n",
       "      <td id=\"T_7810a_row6_col1\" class=\"data row6 col1\" >0.5798</td>\n",
       "      <td id=\"T_7810a_row6_col2\" class=\"data row6 col2\" >0.7615</td>\n",
       "      <td id=\"T_7810a_row6_col3\" class=\"data row6 col3\" >0.9361</td>\n",
       "      <td id=\"T_7810a_row6_col4\" class=\"data row6 col4\" >0.2677</td>\n",
       "      <td id=\"T_7810a_row6_col5\" class=\"data row6 col5\" >0.1431</td>\n",
       "    </tr>\n",
       "    <tr>\n",
       "      <th id=\"T_7810a_level0_row7\" class=\"row_heading level0 row7\" >7</th>\n",
       "      <td id=\"T_7810a_row7_col0\" class=\"data row7 col0\" >0.3160</td>\n",
       "      <td id=\"T_7810a_row7_col1\" class=\"data row7 col1\" >0.7105</td>\n",
       "      <td id=\"T_7810a_row7_col2\" class=\"data row7 col2\" >0.8429</td>\n",
       "      <td id=\"T_7810a_row7_col3\" class=\"data row7 col3\" >0.9211</td>\n",
       "      <td id=\"T_7810a_row7_col4\" class=\"data row7 col4\" >0.3025</td>\n",
       "      <td id=\"T_7810a_row7_col5\" class=\"data row7 col5\" >0.1799</td>\n",
       "    </tr>\n",
       "    <tr>\n",
       "      <th id=\"T_7810a_level0_row8\" class=\"row_heading level0 row8\" >8</th>\n",
       "      <td id=\"T_7810a_row8_col0\" class=\"data row8 col0\" >0.3087</td>\n",
       "      <td id=\"T_7810a_row8_col1\" class=\"data row8 col1\" >0.6835</td>\n",
       "      <td id=\"T_7810a_row8_col2\" class=\"data row8 col2\" >0.8267</td>\n",
       "      <td id=\"T_7810a_row8_col3\" class=\"data row8 col3\" >0.9223</td>\n",
       "      <td id=\"T_7810a_row8_col4\" class=\"data row8 col4\" >0.2970</td>\n",
       "      <td id=\"T_7810a_row8_col5\" class=\"data row8 col5\" >0.1934</td>\n",
       "    </tr>\n",
       "    <tr>\n",
       "      <th id=\"T_7810a_level0_row9\" class=\"row_heading level0 row9\" >9</th>\n",
       "      <td id=\"T_7810a_row9_col0\" class=\"data row9 col0\" >0.2788</td>\n",
       "      <td id=\"T_7810a_row9_col1\" class=\"data row9 col1\" >0.6360</td>\n",
       "      <td id=\"T_7810a_row9_col2\" class=\"data row9 col2\" >0.7975</td>\n",
       "      <td id=\"T_7810a_row9_col3\" class=\"data row9 col3\" >0.9250</td>\n",
       "      <td id=\"T_7810a_row9_col4\" class=\"data row9 col4\" >0.2806</td>\n",
       "      <td id=\"T_7810a_row9_col5\" class=\"data row9 col5\" >0.1870</td>\n",
       "    </tr>\n",
       "    <tr>\n",
       "      <th id=\"T_7810a_level0_row10\" class=\"row_heading level0 row10\" >Mean</th>\n",
       "      <td id=\"T_7810a_row10_col0\" class=\"data row10 col0\" >0.3014</td>\n",
       "      <td id=\"T_7810a_row10_col1\" class=\"data row10 col1\" >0.6746</td>\n",
       "      <td id=\"T_7810a_row10_col2\" class=\"data row10 col2\" >0.8203</td>\n",
       "      <td id=\"T_7810a_row10_col3\" class=\"data row10 col3\" >0.9244</td>\n",
       "      <td id=\"T_7810a_row10_col4\" class=\"data row10 col4\" >0.2920</td>\n",
       "      <td id=\"T_7810a_row10_col5\" class=\"data row10 col5\" >0.1830</td>\n",
       "    </tr>\n",
       "    <tr>\n",
       "      <th id=\"T_7810a_level0_row11\" class=\"row_heading level0 row11\" >SD</th>\n",
       "      <td id=\"T_7810a_row11_col0\" class=\"data row11 col0\" >0.0185</td>\n",
       "      <td id=\"T_7810a_row11_col1\" class=\"data row11 col1\" >0.0687</td>\n",
       "      <td id=\"T_7810a_row11_col2\" class=\"data row11 col2\" >0.0418</td>\n",
       "      <td id=\"T_7810a_row11_col3\" class=\"data row11 col3\" >0.0078</td>\n",
       "      <td id=\"T_7810a_row11_col4\" class=\"data row11 col4\" >0.0161</td>\n",
       "      <td id=\"T_7810a_row11_col5\" class=\"data row11 col5\" >0.0141</td>\n",
       "    </tr>\n",
       "  </tbody>\n",
       "</table>\n"
      ],
      "text/plain": [
       "<pandas.io.formats.style.Styler at 0x12ad9e7b1f0>"
      ]
     },
     "metadata": {},
     "output_type": "display_data"
    }
   ],
   "source": [
    "#Elección de modelo\n",
    "final_model=create_model('rf')"
   ]
  },
  {
   "cell_type": "code",
   "execution_count": null,
   "metadata": {},
   "outputs": [
    {
     "data": {
      "application/vnd.jupyter.widget-view+json": {
       "model_id": "681dde6e5f614f3cb57d9207237a31b5",
       "version_major": 2,
       "version_minor": 0
      },
      "text/plain": [
       "IntProgress(value=0, description='Processing: ', max=7)"
      ]
     },
     "metadata": {},
     "output_type": "display_data"
    },
    {
     "data": {
      "text/html": [
       "<div>\n",
       "<style scoped>\n",
       "    .dataframe tbody tr th:only-of-type {\n",
       "        vertical-align: middle;\n",
       "    }\n",
       "\n",
       "    .dataframe tbody tr th {\n",
       "        vertical-align: top;\n",
       "    }\n",
       "\n",
       "    .dataframe thead th {\n",
       "        text-align: right;\n",
       "    }\n",
       "</style>\n",
       "<table border=\"1\" class=\"dataframe\">\n",
       "  <thead>\n",
       "    <tr style=\"text-align: right;\">\n",
       "      <th></th>\n",
       "      <th></th>\n",
       "      <th></th>\n",
       "    </tr>\n",
       "    <tr>\n",
       "      <th></th>\n",
       "      <th></th>\n",
       "      <th></th>\n",
       "    </tr>\n",
       "  </thead>\n",
       "  <tbody>\n",
       "    <tr>\n",
       "      <th>Initiated</th>\n",
       "      <td>. . . . . . . . . . . . . . . . . .</td>\n",
       "      <td>18:57:01</td>\n",
       "    </tr>\n",
       "    <tr>\n",
       "      <th>Status</th>\n",
       "      <td>. . . . . . . . . . . . . . . . . .</td>\n",
       "      <td>Searching Hyperparameters</td>\n",
       "    </tr>\n",
       "    <tr>\n",
       "      <th>Estimator</th>\n",
       "      <td>. . . . . . . . . . . . . . . . . .</td>\n",
       "      <td>Random Forest Regressor</td>\n",
       "    </tr>\n",
       "  </tbody>\n",
       "</table>\n",
       "</div>"
      ],
      "text/plain": [
       "                                                                         \n",
       "                                                                         \n",
       "Initiated  . . . . . . . . . . . . . . . . . .                   18:57:01\n",
       "Status     . . . . . . . . . . . . . . . . . .  Searching Hyperparameters\n",
       "Estimator  . . . . . . . . . . . . . . . . . .    Random Forest Regressor"
      ]
     },
     "metadata": {},
     "output_type": "display_data"
    },
    {
     "data": {
      "text/html": [
       "<div>\n",
       "<style scoped>\n",
       "    .dataframe tbody tr th:only-of-type {\n",
       "        vertical-align: middle;\n",
       "    }\n",
       "\n",
       "    .dataframe tbody tr th {\n",
       "        vertical-align: top;\n",
       "    }\n",
       "\n",
       "    .dataframe thead th {\n",
       "        text-align: right;\n",
       "    }\n",
       "</style>\n",
       "<table border=\"1\" class=\"dataframe\">\n",
       "  <thead>\n",
       "    <tr style=\"text-align: right;\">\n",
       "      <th></th>\n",
       "      <th>MAE</th>\n",
       "      <th>MSE</th>\n",
       "      <th>RMSE</th>\n",
       "      <th>R2</th>\n",
       "      <th>RMSLE</th>\n",
       "      <th>MAPE</th>\n",
       "    </tr>\n",
       "  </thead>\n",
       "  <tbody>\n",
       "  </tbody>\n",
       "</table>\n",
       "</div>"
      ],
      "text/plain": [
       "Empty DataFrame\n",
       "Columns: [MAE, MSE, RMSE, R2, RMSLE, MAPE]\n",
       "Index: []"
      ]
     },
     "metadata": {},
     "output_type": "display_data"
    },
    {
     "name": "stdout",
     "output_type": "stream",
     "text": [
      "Fitting 5 folds for each of 10 candidates, totalling 50 fits\n"
     ]
    },
    {
     "name": "stderr",
     "output_type": "stream",
     "text": [
      "[Parallel(n_jobs=-1)]: Using backend LokyBackend with 12 concurrent workers.\n",
      "[Parallel(n_jobs=-1)]: Done  26 tasks      | elapsed:  4.2min\n"
     ]
    }
   ],
   "source": [
    "tune_rf=tune_model(estimator=final_model,optimize='RMSE',fold=5)\n",
    "tune_rf"
   ]
  },
  {
   "cell_type": "code",
   "execution_count": 17,
   "metadata": {},
   "outputs": [
    {
     "data": {
      "image/png": "[encoded data removed]",
      "text/plain": [
       "<Figure size 576x396 with 1 Axes>"
      ]
     },
     "metadata": {},
     "output_type": "display_data"
    }
   ],
   "source": [
    "plot_model(final_model,plot='learning')"
   ]
  },
  {
   "cell_type": "code",
   "execution_count": null,
   "metadata": {},
   "outputs": [],
   "source": [
    "plot_model(tune_rf,plot='learning')"
   ]
  },
  {
   "cell_type": "code",
   "execution_count": 18,
   "metadata": {},
   "outputs": [
    {
     "data": {
      "image/png": "[encoded data removed]",
      "text/plain": [
       "<Figure size 800x500 with 1 Axes>"
      ]
     },
     "metadata": {},
     "output_type": "display_data"
    }
   ],
   "source": [
    "plot_model(final_model,plot='feature')"
   ]
  },
  {
   "cell_type": "code",
   "execution_count": null,
   "metadata": {},
   "outputs": [],
   "source": [
    "plot_model(tune_rf,plot='feature')"
   ]
  },
  {
   "cell_type": "code",
   "execution_count": 19,
   "metadata": {},
   "outputs": [
    {
     "data": {
      "image/png": "[encoded data removed]",
      "text/plain": [
       "<Figure size 576x396 with 2 Axes>"
      ]
     },
     "metadata": {},
     "output_type": "display_data"
    }
   ],
   "source": [
    "plot_model(final_model,plot='residuals')"
   ]
  },
  {
   "cell_type": "code",
   "execution_count": null,
   "metadata": {},
   "outputs": [],
   "source": [
    "plot_model(tune_rf,plot='residuals')"
   ]
  },
  {
   "cell_type": "code",
   "execution_count": 20,
   "metadata": {},
   "outputs": [
    {
     "data": {
      "text/html": [
       "<div>\n",
       "<style scoped>\n",
       "    .dataframe tbody tr th:only-of-type {\n",
       "        vertical-align: middle;\n",
       "    }\n",
       "\n",
       "    .dataframe tbody tr th {\n",
       "        vertical-align: top;\n",
       "    }\n",
       "\n",
       "    .dataframe thead th {\n",
       "        text-align: right;\n",
       "    }\n",
       "</style>\n",
       "<table border=\"1\" class=\"dataframe\">\n",
       "  <thead>\n",
       "    <tr style=\"text-align: right;\">\n",
       "      <th></th>\n",
       "      <th>dias para aprobación</th>\n",
       "      <th>Label</th>\n",
       "    </tr>\n",
       "  </thead>\n",
       "  <tbody>\n",
       "    <tr>\n",
       "      <th>22335</th>\n",
       "      <td>0</td>\n",
       "      <td>0.000000</td>\n",
       "    </tr>\n",
       "    <tr>\n",
       "      <th>22752</th>\n",
       "      <td>1</td>\n",
       "      <td>0.275891</td>\n",
       "    </tr>\n",
       "    <tr>\n",
       "      <th>10442</th>\n",
       "      <td>1</td>\n",
       "      <td>0.214325</td>\n",
       "    </tr>\n",
       "    <tr>\n",
       "      <th>17978</th>\n",
       "      <td>7</td>\n",
       "      <td>7.000000</td>\n",
       "    </tr>\n",
       "    <tr>\n",
       "      <th>12963</th>\n",
       "      <td>7</td>\n",
       "      <td>7.000000</td>\n",
       "    </tr>\n",
       "  </tbody>\n",
       "</table>\n",
       "</div>"
      ],
      "text/plain": [
       "       dias para aprobación     Label\n",
       "22335                     0  0.000000\n",
       "22752                     1  0.275891\n",
       "10442                     1  0.214325\n",
       "17978                     7  7.000000\n",
       "12963                     7  7.000000"
      ]
     },
     "execution_count": 20,
     "metadata": {},
     "output_type": "execute_result"
    }
   ],
   "source": [
    "predicciones=predict_model(final_model,data=test,round=0)\n",
    "predicciones[['dias para aprobación','Label']].head(5)"
   ]
  },
  {
   "cell_type": "code",
   "execution_count": 21,
   "metadata": {},
   "outputs": [
    {
     "name": "stdout",
     "output_type": "stream",
     "text": [
      "MSE:  0.6209543449120413\n",
      "RMSE:  0.7880065640031442\n",
      "R2:  0.9298895787188666\n",
      "MAE:  0.0\n"
     ]
    }
   ],
   "source": [
    "from sklearn.metrics import mean_squared_error,r2_score,median_absolute_error,explained_variance_score\n",
    "mse=mean_squared_error(predicciones['dias para aprobación'],predicciones['Label'])\n",
    "r2=r2_score(predicciones['dias para aprobación'],predicciones['Label'])\n",
    "mae=median_absolute_error(predicciones['dias para aprobación'],predicciones['Label'])\n",
    "explain_variance=explained_variance_score(predicciones['dias para aprobación'],predicciones['Label'])\n",
    "print('MSE: ',mse)\n",
    "print('RMSE: ',np.sqrt(mse))\n",
    "print('R2: ',r2)\n",
    "print('MAE: ',mae)\n"
   ]
  },
  {
   "cell_type": "code",
   "execution_count": null,
   "metadata": {},
   "outputs": [],
   "source": [
    "prediccionesE=predict_model(tune_rf,data=test,round=0)\n",
    "mse=mean_squared_error(prediccionesE['dias para aprobación'],prediccionesE['Label'])\n",
    "r2=r2_score(prediccionesE['dias para aprobación'],prediccionesE['Label'])\n",
    "mae=median_absolute_error(prediccionesE['dias para aprobación'],prediccionesE['Label'])\n",
    "explain_variance=explained_variance_score(prediccionesE['dias para aprobación'],prediccionesE['Label'])\n",
    "print('MSE: ',mse)\n",
    "print('RMSE: ',np.sqrt(mse))\n",
    "print('R2: ',r2)\n",
    "print('MAE: ',mae)\n"
   ]
  },
  {
   "cell_type": "code",
   "execution_count": 22,
   "metadata": {},
   "outputs": [
    {
     "name": "stdout",
     "output_type": "stream",
     "text": [
      "Transformation Pipeline and Model Successfully Saved\n"
     ]
    },
    {
     "data": {
      "text/plain": [
       "(Pipeline(memory=None,\n",
       "          steps=[('dtypes',\n",
       "                  DataTypes_Auto_infer(categorical_features=[],\n",
       "                                       display_types=True, features_todrop=[],\n",
       "                                       id_columns=[], ml_usecase='regression',\n",
       "                                       numerical_features=['dia fecha orden',\n",
       "                                                           'mes fecha orden',\n",
       "                                                           'semana del año '\n",
       "                                                           'orden'],\n",
       "                                       target='dias para aprobación',\n",
       "                                       time_features=[])),\n",
       "                 ('imputer',\n",
       "                  Simple_Imputer(categorical_strategy='not_available',\n",
       "                                 fill_v...\n",
       "                  RandomForestRegressor(bootstrap=True, ccp_alpha=0.0,\n",
       "                                        criterion='mse', max_depth=None,\n",
       "                                        max_features='auto', max_leaf_nodes=None,\n",
       "                                        max_samples=None,\n",
       "                                        min_impurity_decrease=0.0,\n",
       "                                        min_impurity_split=None,\n",
       "                                        min_samples_leaf=1, min_samples_split=2,\n",
       "                                        min_weight_fraction_leaf=0.0,\n",
       "                                        n_estimators=100, n_jobs=-1,\n",
       "                                        oob_score=False, random_state=7648,\n",
       "                                        verbose=0, warm_start=False)]],\n",
       "          verbose=False),\n",
       " 'modelo_.pkl')"
      ]
     },
     "execution_count": 22,
     "metadata": {},
     "output_type": "execute_result"
    }
   ],
   "source": [
    "#save_model(final_model,model_name='modelo_')"
   ]
  }
 ],
 "metadata": {
  "kernelspec": {
   "display_name": "Python 3 (ipykernel)",
   "language": "python",
   "name": "python3"
  },
  "language_info": {
   "codemirror_mode": {
    "name": "ipython",
    "version": 3
   },
   "file_extension": ".py",
   "mimetype": "text/x-python",
   "name": "python",
   "nbconvert_exporter": "python",
   "pygments_lexer": "ipython3",
   "version": "3.8.12"
  }
 },
 "nbformat": 4,
 "nbformat_minor": 4
}
